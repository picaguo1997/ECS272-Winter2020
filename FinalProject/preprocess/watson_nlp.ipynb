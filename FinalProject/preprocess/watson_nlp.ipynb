{
 "nbformat": 4,
 "nbformat_minor": 2,
 "metadata": {
  "language_info": {
   "name": "python",
   "codemirror_mode": {
    "name": "ipython",
    "version": 3
   },
   "version": "3.8.2-final"
  },
  "orig_nbformat": 2,
  "file_extension": ".py",
  "mimetype": "text/x-python",
  "name": "python",
  "npconvert_exporter": "python",
  "pygments_lexer": "ipython3",
  "version": 3,
  "kernelspec": {
   "name": "python38264bit7a608f7ffd604a1582ce1ca30ede2790",
   "display_name": "Python 3.8.2 64-bit"
  }
 },
 "cells": [
  {
   "cell_type": "markdown",
   "metadata": {},
   "source": [
    "# Imports"
   ]
  },
  {
   "cell_type": "code",
   "execution_count": 1,
   "metadata": {},
   "outputs": [],
   "source": [
    "import sys\n",
    "import json\n",
    "import unicodedata\n",
    "from ibm_watson import NaturalLanguageUnderstandingV1\n",
    "from ibm_cloud_sdk_core.authenticators import IAMAuthenticator\n",
    "from ibm_watson.natural_language_understanding_v1 import Features, SentimentOptions, EmotionOptions"
   ]
  },
  {
   "cell_type": "markdown",
   "metadata": {},
   "source": [
    "# Authentification"
   ]
  },
  {
   "cell_type": "code",
   "execution_count": 2,
   "metadata": {},
   "outputs": [],
   "source": [
    "authenticator = IAMAuthenticator('ZtAL7sIQ58MB8UrjOeYR_fvko36zVObg57OQ8y3FftDn')\n",
    "natural_language_understanding = NaturalLanguageUnderstandingV1(\n",
    "    version='2019-07-12',\n",
    "    authenticator=authenticator\n",
    ")\n",
    "natural_language_understanding.set_service_url('https://api.us-south.natural-language-understanding.watson.cloud.ibm.com/instances/90eb04a6-053b-4fdd-a09a-2005d9fe421b')"
   ]
  },
  {
   "cell_type": "markdown",
   "metadata": {},
   "source": [
    "# Analysis"
   ]
  },
  {
   "cell_type": "code",
   "execution_count": 3,
   "metadata": {},
   "outputs": [],
   "source": [
    "# writes a json to fpath\n",
    "def write_json(fpath, data):\n",
    "    # write json back\n",
    "    with open(fpath, 'w') as f:\n",
    "        json.dump(data, f)"
   ]
  },
  {
   "cell_type": "code",
   "execution_count": 4,
   "metadata": {},
   "outputs": [],
   "source": [
    "# removes control characters from a string\n",
    "def remove_control_characters(s):\n",
    "    return \"\".join(ch for ch in s if unicodedata.category(ch)[0]!=\"C\")"
   ]
  },
  {
   "cell_type": "code",
   "execution_count": 5,
   "metadata": {},
   "outputs": [],
   "source": [
    "# takes the raw content of a article (an array of text paragraph with unicode control characters) and returns a sanatized complete text\n",
    "def sanatize_content(raw_content):\n",
    "    text = ''\n",
    "    for i in range(len(raw_content)):\n",
    "        sanatized_paragraph = remove_control_characters(raw_content[i])\n",
    "        text += ' ' + sanatized_paragraph\n",
    "\n",
    "    return text"
   ]
  },
  {
   "cell_type": "code",
   "execution_count": 32,
   "metadata": {},
   "outputs": [],
   "source": [
    "# takes a json of one newssource and calls sentiment and emotion analysis for each article and writes them directly to the given json file\n",
    "def analyze_newssource(fpath, json):\n",
    "    no_articles = 0\n",
    "\n",
    "    for article in json:\n",
    "        # skip cycle, if the article was already analyzed or the article doesn't have content\n",
    "        if('watson_analysis' in article or article['content'] == []):\n",
    "            continue\n",
    "\n",
    "        # print every 10 articles\n",
    "        if(no_articles % 10 == 0):\n",
    "            print('Analyzing article ' + str(no_articles) + ' to ' + str(no_articles + 10))\n",
    "        \n",
    "        no_articles += 1\n",
    "\n",
    "        # sanatize content\n",
    "        raw_content = article['content']\n",
    "        sanatized_content = sanatize_content(raw_content)\n",
    "\n",
    "        # analyze content\n",
    "        sentiment, sadness, joy, fear, disgust, anger = analyze_text(sanatized_content, 0)\n",
    "\n",
    "        # omit analysis if it yielded 'None' (has an exception analyzing)\n",
    "        if(sentiment is None or sadness is None or joy is None or disgust is None or anger is None):\n",
    "            continue\n",
    "\n",
    "        # write analysis to json\n",
    "        article['watson_analysis'] = {\n",
    "            'sentiment' : sentiment,\n",
    "            'sadness' : sadness,\n",
    "            'joy' : joy,\n",
    "            'fear' : fear,\n",
    "            'disgust' : disgust,\n",
    "            'anger' : anger,\n",
    "        }\n",
    "\n",
    "        # write json to file\n",
    "        write_json(fpath, json)\n",
    "\n",
    "    print('Analysis done. All changes written.')"
   ]
  },
  {
   "cell_type": "code",
   "execution_count": 29,
   "metadata": {},
   "outputs": [],
   "source": [
    "# takes a text, requests analysis and returns sentiment and emotion results\n",
    "\n",
    "def analyze_text(text, trial_count):\n",
    "    if(trial_count > 5):\n",
    "        print('Analysis failed 5 times. Skipping.')\n",
    "        return\n",
    "\n",
    "    try:\n",
    "        response = natural_language_understanding.analyze(\n",
    "            text=text,\n",
    "            features=Features(sentiment=SentimentOptions(), emotion=EmotionOptions())\n",
    "        ).get_result()\n",
    "    except Exception:\n",
    "        print('Analysis exception, retrying...')\n",
    "        trial_counter += 1\n",
    "        analyze_text(text, trial_count)\n",
    "\n",
    "    try:\n",
    "        sentiment = response['sentiment']['document']['score']\n",
    "    except KeyError:\n",
    "        sentiment = 'N/A'\n",
    "        print('No value for sentiment.')\n",
    "\n",
    "    try:\n",
    "        sadness = response['emotion']['document']['emotion']['sadness']\n",
    "        joy = response['emotion']['document']['emotion']['joy']\n",
    "        fear = response['emotion']['document']['emotion']['fear']\n",
    "        disgust = response['emotion']['document']['emotion']['disgust']\n",
    "        anger = response['emotion']['document']['emotion']['anger']\n",
    "    except KeyError:\n",
    "        sadness = 'N/A'\n",
    "        joy = 'N/A'\n",
    "        fear = 'N/A'\n",
    "        disgust = 'N/A'\n",
    "        anger = 'N/A'\n",
    "        print('No value for emotions.')\n",
    "\n",
    "    return sentiment, sadness, joy, fear, disgust, anger"
   ]
  },
  {
   "cell_type": "code",
   "execution_count": 30,
   "metadata": {},
   "outputs": [],
   "source": [
    "def analyze_newssources(newssources):\n",
    "\n",
    "  for newssource in newssources:\n",
    "      fpath = './dataset/' + newssource + '.json'\n",
    "\n",
    "      # open json at fpath\n",
    "      with open(fpath) as f:\n",
    "        print('Opening ' + fpath)\n",
    "        data = json.load(f)\n",
    "\n",
    "      # append analysis\n",
    "      print('Analyzing newssource ' + newssource)\n",
    "      analyze_newssource(fpath, data)"
   ]
  },
  {
   "cell_type": "markdown",
   "metadata": {},
   "source": [
    "# Start"
   ]
  },
  {
   "cell_type": "code",
   "execution_count": 31,
   "metadata": {},
   "outputs": [
    {
     "name": "stdout",
     "output_type": "stream",
     "text": "mal.', 'MOSCOW — China has handed over the genome of the coronavirus to Russia in a joint effort between the two countries to create a vaccine, the Russian Consulate in Guangzhou said in a statement Wednesday.', 'Russia has not had any confirmed cases of the new virus, but its consumer safety regulator, Rospotrebnadzor, said it started work on a vaccine a week ago.', '“Yes, of course, the development of a vaccine is underway. Every time we have a mutation (of a virus), we start developing a vaccine immediately,” Anna Popova, the head of Rospotrebnadzor, told Russia’s state-run RIA Novosti news agency.', 'German Shipulin, the deputy director of the Health Ministry’s strategic planning center, told the Izvestia newspaper that a vaccine will require a significant allocation of funds and take at least six months to develop.', '“We do not know how this virus will behave among our population. … The susceptibility of the population to it depends on genetics. But if the virus does get to Russia and starts to spread with a large number of lethal outcomes, this vaccine will become a savior,” he said.', 'HONG KONG — British Airways on Wednesday suspended direct flights to Beijing and Shanghai following the coronavirus outbreak in China.', 'The move came after Britain’s Foreign and Commonwealth Office advised against all but essential travel to mainland China, excluding Hong Kong and Macao, and urged against all travel to Hubei province, the center of the health crisis.', 'The London-based airline typically operates one direct flight a day to Beijing and another to Shanghai. Searches of its website showed they were no longer available, though indirect routings to both cities were still possible via connecting flights.', 'HONG KONG — Malaysian authorities have detained a man for spreading false news on the coronavirus, as authorities across the region battle a deluge of misleading information that has stoked panic.', 'The Malaysian Communication and Multimedia Commission, in a statement on Wednesday, said the 34-year-old man was detained for “spreading false information on Jan. 26 regarding the virus.” His mobile phone and SIM card were also seized.', 'The “stern action,” the commission said, is part of an effort to “control the spread of unlawful news about the novel coronavirus outbreak by irresponsible individuals that could disrupt national stability and public order.”', 'Neighboring Singapore has also invoked a controversial new law against fake news on two separate occasions in relation to misinformation about the virus, including a false claim that a Singaporean had died after contracting it.', 'The spread of misinformation related to the virus has been widespread, with many believing videos stating that the virus came from the consumption of bat soup.', 'The viral video, which features a woman eating bat, was not filmed in Wuhan or anywhere else in mainland China, but in Palau. Within China, conspiracy theories that the disease was manufactured by Americans have also spread.', 'NEW DELHI — WeChat, China’s popular messaging and social media app, said in a statement that it was setting up a special project to “clean up the rumors” on coronavirus and “refute” them in real time.', 'As cases of the deadly virus spiked to nearly 6,000 in mainland China, so have rumors and misinformation adding to the panic.', 'The company said it would suspend accounts publishing incorrect information, temporarily or permanently. The company also threatened users with criminal action citing national laws under which people can be imprisoned, detained or be put under public surveillance if they are caught fabricating “false danger, epidemic situation, disaster situation.”', 'Describing the current condition as an “epidemic,” it urged users to remain “calm and rational” and rely on information from credible news outlets and the government. In a rare instance of transparency, the Chinese government declared it would post information on a daily basis on the outbreak and control measures.', 'Cases of coronavirus, first detected in China’s Wuhan, have been recorded in 17 countries.', 'HONG KONG — A plane carrying as many as 240 American evacuees from the Chinese city of Wuhan has landed in the United States.', 'The U.S. government chartered the aircraft to retrieve American diplomats and others from the central Chinese city that is at the heart of the deadly coronavirus outbreak.', 'The plane made a refueling stop in Alaska, where the passengers would undergo a health screening, and would then head for southern California, the Associated Press reported. The aircraft is expected to land at March Air Reserve Base in California’s Riverside County, instead of at Ontario International Airport as originally planned.', 'The report cited Ontario airport commissioner Curt Hagman as saying the State Department had decided to divert the flight to the air base.', 'TOKYO — Beijing’s municipal government has indefinitely postponed the reopening of universities, schools and kindergartens as a precaution against the deadly coronavirus.', 'The school holiday was already extended for two weeks until Feb. 17, but the start of the spring semester has now been put off indefinitely, the government said.', 'Similar measures are being taken all over the country after the Ministry of Education issued instructions on Monday to postpone the new semester, saying that a new start time should be decided by local education departments in coordination with the local Communist Party and government.', 'Concern — and boredom — mount for those trapped at the center of the coronavirus outbreak', '“Schools of all kinds should strengthen the guidance for students’ study and life during the winter vacation, and require that they do not go out at home, do not party, do not organize and participate in concentrated activities,” the Ministry of Education said.', 'Leading international schools in the capital followed suit, with the French International School of Beijing telling parents it had received instructions “asking all students and school staff to remain confined to their homes in Beijing until further notice.”', 'The International School of Beijing said it did not expect to reopen on Feb. 17 and the campus would need to remain closed for a longer period.', '“We expect that upon returning to Beijing all students and employees will need to complete a 14-day travel quarantine period before returning to school,” it said.', 'The Western Academy of Beijing issued similar instructions.', '“Today we have received a new notice from the Beijing Municipal Education Commission (BMEC) announcing that the reopening of school campuses and start of regular school activities shall now be determined by them,” it told parents. “This means that our online learning will continue beyond February 17, the same as Chinese kindergartens, schools, and universities.”', 'HONG KONG — The United Arab Emirates on Wednesday confirmed the first cases of the new coronavirus in the Middle East, according to reports.', 'The virus was detected among a family that arrived from Wuhan, the Chinese city at the epicenter of the outbreak, the state-run WAM news agency reported, citing a Health Ministry statement. It was not immediately clear how many people had been diagnosed.', 'The UAE is a major travel hub and is home to Dubai International Airport, the world’s busiest international airport by passenger traffic, as well as long-haul carriers Emirates and Etihad.', 'TOKYO — Four Japanese citizens who arrived in Tokyo from the virus-hit Chinese city of Wuhan on Wednesday showed symptoms of coughing and/or fever and have been admitted to a hospital for further checks, officials said.', 'The three men and one woman were taken to a hospital in the capital specializing in infectious diseases, traveling in separate ambulances, according to the Tokyo Metropolitan Government. They were among 206 Japanese citizens who arrived back in the country on Wednesday as the evacuation of foreigners from the Chinese city at the center of the epidemic got underway.', 'At Tokyo’s Haneda airport, Takeo Aoyama, an employee at a Nippon Steel subsidiary in Wuhan, told reporters he was relieved to return home, the Associated Press reported.', '“We were feeling increasingly uneasy as the situation developed so rapidly and we were still in the city,” Aoyama said, his voice muffled by a white surgical mask.', 'Foreign Minister Toshimitsu Motegi said on Tuesday that around 650 Japanese citizens living in the central province of Hubei had asked to return to Japan, adding that the government was making arrangements to lay on additional charter flights.', 'TOKYO — North Korea’s ruling party newspaper called the fight against coronavirus a matter of national existence on Wednesday, as concerns rise that the nation’s rudimentary health-care system would not be able to cope with a serious outbreak of the disease.', 'North Korea banned foreign tourists from entering the country last week, and tightened those controls this week by issuing instructions that any foreigner entering the country, including diplomats and aid workers, would be quarantined for a month, in “international class” hotels under medical supervision.', '“All party organizations should regard efforts of blocking the spread of the new coronavirus as an important political matter that has to do with national existence and strengthen political activity,” the Rodong Sinmun, the official newspaper of the North’s ruling party, said, according to South Korea’s Yonhap News Agency.', 'The paper also urged party organizations to make “active efforts” toward medical supervision, diagnosis and research and development on treatments for the virus.', 'The measures mirror steps taken by the country during the 2002-2003 outbreak of SARS (severe acute respiratory syndrome). During the ebola outbreak in Africa in 2014, entry requirements were even stricter, with anyone entering the country, including North Korean nationals and regime officials, held in quarantine for 21 days.', 'The latest measures will be a blow to North Korea’s struggling economy, which had been relying in part on a big influx of Chinese tourists since last year to relieve the pain of international sanctions.', 'HONG KONG — Responding to the deadly coronavirus outbreak, Australia said it would evacuate some of its nationals from Wuhan and hold them in quarantine on a remote island where the country has operated an immigration detention center.', 'Prime Minister Scott Morrison announced the details Wednesday, adding that Australia had been working with the Chinese government to evacuate “isolated and vulnerable” Australians trapped in Hubei province, the epicenter of the health crisis.', 'The evacuees would be transferred to Christmas Island, an Australian territory hundreds of miles from the mainland in the Indian Ocean, where Australia has operated a controversial detention facility for asylum seekers.', 'It wasn’t immediately clear how many people would be evacuated, though officials have said about 600 Australians have registered as being in Hubei province. Priority would be given to the young and the elderly, Morrison told reporters in the Australian capital Canberra Wednesday.', '“Anyone who under this plan is transported to Christmas Island would be there, we envisage, for up to 14 days,” Morrison said. “But that will be subject to the medical advice we receive.”', 'WASHINGTON — China has ordered an unprecedented quarantine of more than 50 million people. It has closed schools and shut down live animal markets. Airports across the globe are screening passengers coming from the world’s most populous country.', 'But three weeks after the new coronavirus emerged as a health crisis, experts can’t yet say whether these efforts will succeed at containing an infection that now threatens at least 15 countries.', 'Some early signs are discouraging: Six countries, including China, have confirmed human-to-human transmission of the infection. Those include four cases in Germany connected to a single person — a worrisome sign for containment of the disease. Cases in China continue to multiply, and 5 million residents of Wuhan, where the virus originated, have left the city, some of them surely carrying the disease.', 'But so far, the mortality rate is less than the rate of other severe respiratory coronaviruses. In China, where 5,974 people are infected, 132 have died through Tuesday. That is a high rate, but far less than the fatality rate of SARS and MERS. And countries like the United States that quickly began screening travelers, isolating sick people and tracing their contacts have just a handful of cases. There have been no fatalities outside China.', 'Public health officials said Tuesday that they are grappling with a long list of unknowns that will determine how successful they are in limiting the toll of the widening outbreak. Those questions include how lethal the virus may be, how contagious it is, whether it is transmitted by people who are infected but show no symptoms, and whether it can be largely contained in its country of origin.', 'Some experts are encouraged that no case outside China seems to be severe, and that no fatalities have been recorded outside China so far.', 'Read more about the outbreak’s unknowns and public health officials’ response here.', 'WASHINGTON — Officials at Miami University in Oxford, Ohio, have called off two college basketball games after administrators announced two students who had recently traveled to China were being tested for coronavirus.', 'One of the students visited the campus health center on Monday and exhibited flulike symptoms, prompting staff to test him and his travel companion, a university statement said. The two students are now isolated in their off-campus residences while they await their test results from the CDC.', 'The school’s men’s and women’s basketball teams were set to face Central Michigan and Western Michigan, respectively, over the next two days, but the athletic department announced on Tuesday that those games would be postponed.', 'The statement was vague and did not mention why the games were being rescheduled, saying only that Miami’s opponents had asked for the change. But Central Michigan’s athletic director, Michael Alford, confirmed it was a coronavirus-related precaution.', '“The health and safety of our student-athletes is always a top priority and, out of abundance of caution, it was decided to cancel tonight’s men’s basketball game,” Alford said in a statement. “I appreciate the diligence that the staff at Miami have shown and this serves as a reminder of how serious these issues are.”', 'One of the students tested was an international student, the school statement said. The university, a public institution in southwest Ohio, has about 25,000 students enrolled at four campuses. More than 80 percent of its 3,000 international students are from China.', 'Spring semester classes began on Monday, after a month-and-a-half-long break and winter term when many students traveled abroad. As news of the outbreak spread, the university contacted students to ask about their travels, Jayne Brownell, the vice president for student life, said at a Tuesday news conference.', '“We are following all of those CDC and Department of Health guidelines,” Brownell said. “We are in touch multiple times a day.”', 'WASHINGTON — The White House on Tuesday warned airlines that it may suspend all China-U.S. flights if the coronavirus outbreak become a bigger public health threat to the United States.', 'In a meeting with airline executives Tuesday afternoon, White House officials said they are not banning flights just yet, but said the U.S. government will assess the situation daily, leaving open the possibility of a ban on all flights from China, people familiar with the meeting said.', 'Airlines in recent days have already canceled hundreds of flights scheduled from China’s Wuhan International Airport, giving U.S. health officials a brief respite as they focused on the logistics of rerouting U.S.-bound travelers from the region to one of five airports for special screening.', 'Travelers are being funneled to airports in Atlanta, Chicago, Los Angeles, New York and San Francisco, where they are being screened for the virus. If cleared, they are allowed to continue to their final destination, officials with the U.S. Centers for Disease Control and Prevention said.', 'The State Department has issued a Level 4 advisory for Wuhan, meaning “no American should travel to Wuhan while this virus continues to have impact,” Vice President Pence said Monday. Later Monday, the State Department issued a Level 3 travel advisory for all of China, urging Americans to reconsider or postpone travel to any part of the country.', 'Public health officials continue to say the coronavirus poses a low risk to the American public, but say the enhanced screenings at airports are part of “proactive preparedness precautions.”', 'Officials familiar with Tuesday’s meeting with the airline executives said the White House made clear any decision to ban flights will be based on public health.', 'TOKYO — A charter plane carrying 206 Japanese from the Chinese city of Wuhan arrived at Tokyo’s Haneda Airport on Wednesday morning, as the evacuation of foreign nationals from the coronavirus-hit city gets underway.', 'Television reports said two of the passengers are suffering from cough and/or a fever, and video showed more than a dozen ambulances lined up outside the airport.', 'Japanese officials say any passengers showing symptoms will be taken directly to a hospital specializing in infectious diseases, while the rest will be taken to another hospital and tested for signs of the virus.', 'The second group will then be allowed to go home but urged not to venture outdoors for two weeks during the incubation period of the virus, with health officials visiting them on a daily basis to monitor their condition.', 'But on social media and comments sections of news reports, many people asked why the rest of the group is not also being isolated.', '“It’s really hard to understand why they do not isolate the returnees for two weeks,” one person commented. “If some are already coughing and feverish, are not the other 200 plus people who are with them subject to infection? Are they allow to go home without isolation? What about their family members? What about their school or workplace?”', 'Officials say more than 650 Japanese citizens have asked to be evacuated from the central province of Hubei, and other flights will be laid on as soon as possible.', 'WASHINGTON — The death toll in China continues to rise, as health agencies reported 26 more fatalities on Wednesday morning local time. As of about 6:30 a.m. in Beijing, coronavirus had killed 132 people — all but six of whom were from Hubei province, where the outbreak began, according to a tally from national and local health commissions.', 'The number of confirmed cases also rose dramatically, by more than 1,000, to 5,974, according to the Chinese health agencies, which also reported that 103 people have been successfully treated for the disease.', 'The day-over-day increase comes as countries scramble to evacuate their citizens from Wuhan, the disease’s epicenter, and as Chinese President Xi Jinping pledged international cooperation to stop its spread.', '“The virus is a devil and we cannot let the devil hide,” Xi said, according to a Reuters report.'], 'headline': 'New cases in China surpass SARS epidemic as infections grow abroad; WHO calls for emergency committee meeting', 'time-stamp': '01/30/2020, 14:12:46', 'url': 'https://www.washingtonpost.com/world/asia_pacific/coronavirus-china-live-updates/2020/01/29/d49b9194-423b-11ea-b503-2b077c436617_story.html?tid=lk_interstitial_manual_52&itid=lk_interstitial_manual_52', 'journal': 'Washington Post'}\nAnalysis done. All changes written.\n"
    }
   ],
   "source": [
    "newssources = ['Washington Post']\n",
    "\n",
    "analyze_newssources(newssources)"
   ]
  },
  {
   "cell_type": "code",
   "execution_count": null,
   "metadata": {},
   "outputs": [],
   "source": []
  }
 ]
}