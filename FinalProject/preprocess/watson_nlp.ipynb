{
 "nbformat": 4,
 "nbformat_minor": 2,
 "metadata": {
  "language_info": {
   "name": "python",
   "codemirror_mode": {
    "name": "ipython",
    "version": 3
   },
   "version": "3.8.2-final"
  },
  "orig_nbformat": 2,
  "file_extension": ".py",
  "mimetype": "text/x-python",
  "name": "python",
  "npconvert_exporter": "python",
  "pygments_lexer": "ipython3",
  "version": 3,
  "kernelspec": {
   "name": "python38264bit8b6ff05588bd409bb1bc77d8893430fc",
   "display_name": "Python 3.8.2 64-bit"
  }
 },
 "cells": [
  {
   "cell_type": "markdown",
   "metadata": {},
   "source": [
    "# Imports"
   ]
  },
  {
   "cell_type": "code",
   "execution_count": 91,
   "metadata": {},
   "outputs": [],
   "source": [
    "import sys\n",
    "import os\n",
    "import json\n",
    "import unicodedata\n",
    "from ibm_watson import NaturalLanguageUnderstandingV1\n",
    "from ibm_cloud_sdk_core.authenticators import IAMAuthenticator\n",
    "from ibm_watson.natural_language_understanding_v1 import Features, SentimentOptions, EmotionOptions"
   ]
  },
  {
   "cell_type": "markdown",
   "metadata": {},
   "source": [
    "# Authentification"
   ]
  },
  {
   "cell_type": "code",
   "execution_count": 2,
   "metadata": {},
   "outputs": [],
   "source": [
    "authenticator = IAMAuthenticator('ZtAL7sIQ58MB8UrjOeYR_fvko36zVObg57OQ8y3FftDn')\n",
    "natural_language_understanding = NaturalLanguageUnderstandingV1(\n",
    "    version='2019-07-12',\n",
    "    authenticator=authenticator\n",
    ")\n",
    "natural_language_understanding.set_service_url('https://api.us-south.natural-language-understanding.watson.cloud.ibm.com/instances/90eb04a6-053b-4fdd-a09a-2005d9fe421b')"
   ]
  },
  {
   "cell_type": "markdown",
   "metadata": {},
   "source": [
    "# Analysis"
   ]
  },
  {
   "cell_type": "code",
   "execution_count": 89,
   "metadata": {},
   "outputs": [],
   "source": [
    "# writes a json to fpath\n",
    "def write_json(fpath, data):\n",
    "    # write json back\n",
    "    mode = 'a' if os.path.exists(fpath) else 'w'\n",
    "    with open(fpath, mode) as f:\n",
    "        json.dump(data, f)"
   ]
  },
  {
   "cell_type": "code",
   "execution_count": 4,
   "metadata": {},
   "outputs": [],
   "source": [
    "# removes control characters from a string\n",
    "def remove_control_characters(s):\n",
    "    return \"\".join(ch for ch in s if unicodedata.category(ch)[0]!=\"C\")"
   ]
  },
  {
   "cell_type": "code",
   "execution_count": 5,
   "metadata": {},
   "outputs": [],
   "source": [
    "# takes the raw content of a article (an array of text paragraph with unicode control characters) and returns a sanatized complete text\n",
    "def sanatize_content(raw_content):\n",
    "    text = ''\n",
    "    for i in range(len(raw_content)):\n",
    "        sanatized_paragraph = remove_control_characters(raw_content[i])\n",
    "        text += ' ' + sanatized_paragraph\n",
    "\n",
    "    return text"
   ]
  },
  {
   "cell_type": "code",
   "execution_count": 18,
   "metadata": {},
   "outputs": [],
   "source": [
    "# takes a json of one newssource and calls sentiment and emotion analysis for each article and writes them directly to the given json file\n",
    "def analyze_newssource(fpath, json):\n",
    "    no_articles = 0\n",
    "\n",
    "    for article in json:\n",
    "        # skip cycle, if the article was already analyzed or the article doesn't have content\n",
    "        if('watson_analysis' in article or article['content'] == [] or article['content'] == [\"\"]):\n",
    "            continue\n",
    "\n",
    "        # print every 10 articles\n",
    "        if(no_articles % 10 == 0):\n",
    "            print('Analyzing article ' + str(no_articles) + ' to ' + str(no_articles + 10))\n",
    "        \n",
    "        no_articles += 1\n",
    "\n",
    "        # sanatize content\n",
    "        raw_content = article['content']\n",
    "        sanatized_content = sanatize_content(raw_content)\n",
    "\n",
    "        # analyze content\n",
    "        sentiment, sadness, joy, fear, disgust, anger = analyze_text(sanatized_content, 0)\n",
    "\n",
    "        # omit analysis if it yielded 'None' (has an exception analyzing)\n",
    "        if(sentiment is None or sadness is None or joy is None or disgust is None or anger is None):\n",
    "            continue\n",
    "\n",
    "        # write analysis to json\n",
    "        article['watson_analysis'] = {\n",
    "            'sentiment' : sentiment,\n",
    "            'sadness' : sadness,\n",
    "            'joy' : joy,\n",
    "            'fear' : fear,\n",
    "            'disgust' : disgust,\n",
    "            'anger' : anger,\n",
    "        }\n",
    "\n",
    "        # write json to file\n",
    "        write_json(fpath, json)\n",
    "\n",
    "    print('Analysis done. All changes written.')"
   ]
  },
  {
   "cell_type": "code",
   "execution_count": 16,
   "metadata": {},
   "outputs": [],
   "source": [
    "# takes a text, requests analysis and returns sentiment and emotion results\n",
    "\n",
    "def analyze_text(text, trial_counter):\n",
    "    if(trial_counter > 5):\n",
    "        print('Analysis failed 5 times. Skipping.')\n",
    "        return None, None, None, None, None, None\n",
    "\n",
    "    try:\n",
    "        response = natural_language_understanding.analyze(\n",
    "            text=text,\n",
    "            features=Features(sentiment=SentimentOptions(), emotion=EmotionOptions())\n",
    "        ).get_result()\n",
    "    except Exception:\n",
    "        print('Analysis exception, retrying...')\n",
    "        return analyze_text(text, trial_counter + 1)\n",
    "\n",
    "    try:\n",
    "        sentiment = response['sentiment']['document']['score']\n",
    "    except KeyError:\n",
    "        sentiment = 'N/A'\n",
    "        print('No value for sentiment.')\n",
    "\n",
    "    try:\n",
    "        sadness = response['emotion']['document']['emotion']['sadness']\n",
    "        joy = response['emotion']['document']['emotion']['joy']\n",
    "        fear = response['emotion']['document']['emotion']['fear']\n",
    "        disgust = response['emotion']['document']['emotion']['disgust']\n",
    "        anger = response['emotion']['document']['emotion']['anger']\n",
    "    except KeyError:\n",
    "        sadness = 'N/A'\n",
    "        joy = 'N/A'\n",
    "        fear = 'N/A'\n",
    "        disgust = 'N/A'\n",
    "        anger = 'N/A'\n",
    "        print('No value for emotions.')\n",
    "\n",
    "    return sentiment, sadness, joy, fear, disgust, anger"
   ]
  },
  {
   "cell_type": "code",
   "execution_count": 24,
   "metadata": {},
   "outputs": [],
   "source": [
    "def analyze_newssources(newssources):\n",
    "\n",
    "  for newssource in newssources:\n",
    "      fpath = './dataset/cn_media_raw/' + newssource + '.json'\n",
    "\n",
    "      # open json at fpath\n",
    "      with open(fpath) as f:\n",
    "        print('Opening ' + fpath)\n",
    "        data = json.load(f)\n",
    "\n",
    "      # append analysis\n",
    "      print('Analyzing newssource ' + newssource)\n",
    "      analyze_newssource('./dataset/cn_media_analyzed/' + newssource + ' analyzed.json', data)"
   ]
  },
  {
   "cell_type": "markdown",
   "metadata": {},
   "source": [
    "# Start"
   ]
  },
  {
   "cell_type": "code",
   "execution_count": 17,
   "metadata": {},
   "outputs": [
    {
     "name": "stderr",
     "output_type": "stream",
     "text": "Frameworks/Python.framework/Versions/3.8/lib/python3.8/site-packages/ibm_watson/natural_language_understanding_v1.py\", line 185, in analyze\n    response = self.send(request)\n  File \"/Library/Frameworks/Python.framework/Versions/3.8/lib/python3.8/site-packages/ibm_cloud_sdk_core/base_service.py\", line 228, in send\n    raise ApiException(\nibm_cloud_sdk_core.api_exception.ApiException: Error: not enough text for language id, Code: 422 , X-global-transaction-id: a61e97fc2c32377e9f9205b68e7f844a\n\nDuring handling of the above exception, another exception occurred:\n\nTraceback (most recent call last):\n  File \"<ipython-input-16-e835b6b254f2>\", line 9, in analyze_text\n    response = natural_language_understanding.analyze(\n  File \"/Library/Frameworks/Python.framework/Versions/3.8/lib/python3.8/site-packages/ibm_watson/natural_language_understanding_v1.py\", line 185, in analyze\n    response = self.send(request)\n  File \"/Library/Frameworks/Python.framework/Versions/3.8/lib/python3.8/site-packages/ibm_cloud_sdk_core/base_service.py\", line 228, in send\n    raise ApiException(\nibm_cloud_sdk_core.api_exception.ApiException: Error: not enough text for language id, Code: 422 , X-global-transaction-id: ae90b12c1e160cd42ef6e966d5e279aa\n\nDuring handling of the above exception, another exception occurred:\n\nTraceback (most recent call last):\n  File \"/Library/Frameworks/Python.framework/Versions/3.8/lib/python3.8/site-packages/ibm_cloud_sdk_core/base_service.py\", line 228, in send\n    raise ApiException(\nibm_cloud_sdk_core.api_exception.ApiException: Error: not enough text for language id, Code: 422 , X-global-transaction-id: 8d815c19213f1d33a0dba1c79395b4c1\nAnalysis exception, retrying...\nERROR:root:not enough text for language id\nTraceback (most recent call last):\n  File \"<ipython-input-16-e835b6b254f2>\", line 9, in analyze_text\n    response = natural_language_understanding.analyze(\n  File \"/Library/Frameworks/Python.framework/Versions/3.8/lib/python3.8/site-packages/ibm_watson/natural_language_understanding_v1.py\", line 185, in analyze\n    response = self.send(request)\n  File \"/Library/Frameworks/Python.framework/Versions/3.8/lib/python3.8/site-packages/ibm_cloud_sdk_core/base_service.py\", line 228, in send\n    raise ApiException(\nibm_cloud_sdk_core.api_exception.ApiException: Error: not enough text for language id, Code: 422 , X-global-transaction-id: c1189793dc692696cb4e266ebcf2a00c\n\nDuring handling of the above exception, another exception occurred:\n\nTraceback (most recent call last):\n  File \"<ipython-input-16-e835b6b254f2>\", line 9, in analyze_text\n    response = natural_language_understanding.analyze(\n  File \"/Library/Frameworks/Python.framework/Versions/3.8/lib/python3.8/site-packages/ibm_watson/natural_language_understanding_v1.py\", line 185, in analyze\n    response = self.send(request)\n  File \"/Library/Frameworks/Python.framework/Versions/3.8/lib/python3.8/site-packages/ibm_cloud_sdk_core/base_service.py\", line 228, in send\n    raise ApiException(\nibm_cloud_sdk_core.api_exception.ApiException: Error: not enough text for language id, Code: 422 , X-global-transaction-id: 3d8b2c4a7389d449aa69fe70ff479e4b\n\nDuring handling of the above exception, another exception occurred:\n\nTraceback (most recent call last):\n  File \"<ipython-input-16-e835b6b254f2>\", line 9, in analyze_text\n    response = natural_language_understanding.analyze(\n  File \"/Library/Frameworks/Python.framework/Versions/3.8/lib/python3.8/site-packages/ibm_watson/natural_language_understanding_v1.py\", line 185, in analyze\n    response = self.send(request)\n  File \"/Library/Frameworks/Python.framework/Versions/3.8/lib/python3.8/site-packages/ibm_cloud_sdk_core/base_service.py\", line 228, in send\n    raise ApiException(\nibm_cloud_sdk_core.api_exception.ApiException: Error: not enough text for language id, Code: 422 , X-global-transaction-id: a61e97fc2c32377e9f9205b68e7f844a\n\nDuring handling of the above exception, another exception occurred:\n\nTraceback (most recent call last):\n  File \"<ipython-input-16-e835b6b254f2>\", line 9, in analyze_text\n    response = natural_language_understanding.analyze(\n  File \"/Library/Frameworks/Python.framework/Versions/3.8/lib/python3.8/site-packages/ibm_watson/natural_language_understanding_v1.py\", line 185, in analyze\n    response = self.send(request)\n  File \"/Library/Frameworks/Python.framework/Versions/3.8/lib/python3.8/site-packages/ibm_cloud_sdk_core/base_service.py\", line 228, in send\n    raise ApiException(\nibm_cloud_sdk_core.api_exception.ApiException: Error: not enough text for language id, Code: 422 , X-global-transaction-id: ae90b12c1e160cd42ef6e966d5e279aa\n\nDuring handling of the above exception, another exception occurred:\n\nTraceback (most recent call last):\n  File \"<ipython-input-16-e835b6b254f2>\", line 9, in analyze_text\n    response = natural_language_understanding.analyze(\n  File \"/Library/Frameworks/Python.framework/Versions/3.8/lib/python3.8/site-packages/ibm_watson/natural_language_understanding_v1.py\", line 185, in analyze\n    response = self.send(request)\n  File \"/Library/Frameworks/Python.framework/Versions/3.8/lib/python3.8/site-packages/ibm_cloud_sdk_core/base_service.py\", line 228, in send\n    raise ApiException(\nibm_cloud_sdk_core.api_exception.ApiException: Error: not enough text for language id, Code: 422 , X-global-transaction-id: 8d815c19213f1d33a0dba1c79395b4c1\n\nDuring handling of the above exception, another exception occurred:\n\nTraceback (most recent call last):\n  File \"/Library/Frameworks/Python.framework/Versions/3.8/lib/python3.8/site-packages/ibm_cloud_sdk_core/base_service.py\", line 228, in send\n    raise ApiException(\nibm_cloud_sdk_core.api_exception.ApiException: Error: not enough text for language id, Code: 422 , X-global-transaction-id: e4d066288490b193721ce7274e760897\nAnalysis exception, retrying...\nAnalysis failed 5 times. Skipping.\nAnalyzing article 260 to 270\nERROR:root:invalid request: content is empty\nTraceback (most recent call last):\n  File \"/Library/Frameworks/Python.framework/Versions/3.8/lib/python3.8/site-packages/ibm_cloud_sdk_core/base_service.py\", line 228, in send\n    raise ApiException(\nibm_cloud_sdk_core.api_exception.ApiException: Error: invalid request: content is empty, Code: 400 , X-global-transaction-id: e38a929b72b1a46f18fb2a789814e0f3\nERROR:root:invalid request: content is empty\nTraceback (most recent call last):\n  File \"<ipython-input-16-e835b6b254f2>\", line 9, in analyze_text\n    response = natural_language_understanding.analyze(\n  File \"/Library/Frameworks/Python.framework/Versions/3.8/lib/python3.8/site-packages/ibm_watson/natural_language_understanding_v1.py\", line 185, in analyze\n    response = self.send(request)\n  File \"/Library/Frameworks/Python.framework/Versions/3.8/lib/python3.8/site-packages/ibm_cloud_sdk_core/base_service.py\", line 228, in send\n    raise ApiException(\nibm_cloud_sdk_core.api_exception.ApiException: Error: invalid request: content is empty, Code: 400 , X-global-transaction-id: e38a929b72b1a46f18fb2a789814e0f3\n\nDuring handling of the above exception, another exception occurred:\n\nTraceback (most recent call last):\n  File \"/Library/Frameworks/Python.framework/Versions/3.8/lib/python3.8/site-packages/ibm_cloud_sdk_core/base_service.py\", line 228, in send\n    raise ApiException(\nibm_cloud_sdk_core.api_exception.ApiException: Error: invalid request: content is empty, Code: 400 , X-global-transaction-id: 1b51f19299a79ba809329edd692d4bb3\nAnalysis exception, retrying...\nAnalysis exception, retrying...\nERROR:root:invalid request: content is empty\nTraceback (most recent call last):\n  File \"<ipython-input-16-e835b6b254f2>\", line 9, in analyze_text\n    response = natural_language_understanding.analyze(\n  File \"/Library/Frameworks/Python.framework/Versions/3.8/lib/python3.8/site-packages/ibm_watson/natural_language_understanding_v1.py\", line 185, in analyze\n    response = self.send(request)\n  File \"/Library/Frameworks/Python.framework/Versions/3.8/lib/python3.8/site-packages/ibm_cloud_sdk_core/base_service.py\", line 228, in send\n    raise ApiException(\nibm_cloud_sdk_core.api_exception.ApiException: Error: invalid request: content is empty, Code: 400 , X-global-transaction-id: e38a929b72b1a46f18fb2a789814e0f3\n\nDuring handling of the above exception, another exception occurred:\n\nTraceback (most recent call last):\n  File \"<ipython-input-16-e835b6b254f2>\", line 9, in analyze_text\n    response = natural_language_understanding.analyze(\n  File \"/Library/Frameworks/Python.framework/Versions/3.8/lib/python3.8/site-packages/ibm_watson/natural_language_understanding_v1.py\", line 185, in analyze\n    response = self.send(request)\n  File \"/Library/Frameworks/Python.framework/Versions/3.8/lib/python3.8/site-packages/ibm_cloud_sdk_core/base_service.py\", line 228, in send\n    raise ApiException(\nibm_cloud_sdk_core.api_exception.ApiException: Error: invalid request: content is empty, Code: 400 , X-global-transaction-id: 1b51f19299a79ba809329edd692d4bb3\n\nDuring handling of the above exception, another exception occurred:\n\nTraceback (most recent call last):\n  File \"/Library/Frameworks/Python.framework/Versions/3.8/lib/python3.8/site-packages/ibm_cloud_sdk_core/base_service.py\", line 228, in send\n    raise ApiException(\nibm_cloud_sdk_core.api_exception.ApiException: Error: invalid request: content is empty, Code: 400 , X-global-transaction-id: 666134db81efb3908e4ba83a0427a911\nERROR:root:invalid request: content is empty\nTraceback (most recent call last):\n  File \"<ipython-input-16-e835b6b254f2>\", line 9, in analyze_text\n    response = natural_language_understanding.analyze(\n  File \"/Library/Frameworks/Python.framework/Versions/3.8/lib/python3.8/site-packages/ibm_watson/natural_language_understanding_v1.py\", line 185, in analyze\n    response = self.send(request)\n  File \"/Library/Frameworks/Python.framework/Versions/3.8/lib/python3.8/site-packages/ibm_cloud_sdk_core/base_service.py\", line 228, in send\n    raise ApiException(\nibm_cloud_sdk_core.api_exception.ApiException: Error: invalid request: content is empty, Code: 400 , X-global-transaction-id: e38a929b72b1a46f18fb2a789814e0f3\n\nDuring handling of the above exception, another exception occurred:\n\nTraceback (most recent call last):\n  File \"<ipython-input-16-e835b6b254f2>\", line 9, in analyze_text\n    response = natural_language_understanding.analyze(\n  File \"/Library/Frameworks/Python.framework/Versions/3.8/lib/python3.8/site-packages/ibm_watson/natural_language_understanding_v1.py\", line 185, in analyze\n    response = self.send(request)\n  File \"/Library/Frameworks/Python.framework/Versions/3.8/lib/python3.8/site-packages/ibm_cloud_sdk_core/base_service.py\", line 228, in send\n    raise ApiException(\nibm_cloud_sdk_core.api_exception.ApiException: Error: invalid request: content is empty, Code: 400 , X-global-transaction-id: 1b51f19299a79ba809329edd692d4bb3\n\nDuring handling of the above exception, another exception occurred:\n\nTraceback (most recent call last):\n  File \"<ipython-input-16-e835b6b254f2>\", line 9, in analyze_text\n    response = natural_language_understanding.analyze(\n  File \"/Library/Frameworks/Python.framework/Versions/3.8/lib/python3.8/site-packages/ibm_watson/natural_language_understanding_v1.py\", line 185, in analyze\n    response = self.send(request)\n  File \"/Library/Frameworks/Python.framework/Versions/3.8/lib/python3.8/site-packages/ibm_cloud_sdk_core/base_service.py\", line 228, in send\n    raise ApiException(\nibm_cloud_sdk_core.api_exception.ApiException: Error: invalid request: content is empty, Code: 400 , X-global-transaction-id: 666134db81efb3908e4ba83a0427a911\n\nDuring handling of the above exception, another exception occurred:\n\nTraceback (most recent call last):\n  File \"/Library/Frameworks/Python.framework/Versions/3.8/lib/python3.8/site-packages/ibm_cloud_sdk_core/base_service.py\", line 228, in send\n    raise ApiException(\nibm_cloud_sdk_core.api_exception.ApiException: Error: invalid request: content is empty, Code: 400 , X-global-transaction-id: abfb9fd4cedf8c42a8bf8c556694cac3\nAnalysis exception, retrying...\nAnalysis exception, retrying...\nERROR:root:invalid request: content is empty\nTraceback (most recent call last):\n  File \"<ipython-input-16-e835b6b254f2>\", line 9, in analyze_text\n    response = natural_language_understanding.analyze(\n  File \"/Library/Frameworks/Python.framework/Versions/3.8/lib/python3.8/site-packages/ibm_watson/natural_language_understanding_v1.py\", line 185, in analyze\n    response = self.send(request)\n  File \"/Library/Frameworks/Python.framework/Versions/3.8/lib/python3.8/site-packages/ibm_cloud_sdk_core/base_service.py\", line 228, in send\n    raise ApiException(\nibm_cloud_sdk_core.api_exception.ApiException: Error: invalid request: content is empty, Code: 400 , X-global-transaction-id: e38a929b72b1a46f18fb2a789814e0f3\n\nDuring handling of the above exception, another exception occurred:\n\nTraceback (most recent call last):\n  File \"<ipython-input-16-e835b6b254f2>\", line 9, in analyze_text\n    response = natural_language_understanding.analyze(\n  File \"/Library/Frameworks/Python.framework/Versions/3.8/lib/python3.8/site-packages/ibm_watson/natural_language_understanding_v1.py\", line 185, in analyze\n    response = self.send(request)\n  File \"/Library/Frameworks/Python.framework/Versions/3.8/lib/python3.8/site-packages/ibm_cloud_sdk_core/base_service.py\", line 228, in send\n    raise ApiException(\nibm_cloud_sdk_core.api_exception.ApiException: Error: invalid request: content is empty, Code: 400 , X-global-transaction-id: 1b51f19299a79ba809329edd692d4bb3\n\nDuring handling of the above exception, another exception occurred:\n\nTraceback (most recent call last):\n  File \"<ipython-input-16-e835b6b254f2>\", line 9, in analyze_text\n    response = natural_language_understanding.analyze(\n  File \"/Library/Frameworks/Python.framework/Versions/3.8/lib/python3.8/site-packages/ibm_watson/natural_language_understanding_v1.py\", line 185, in analyze\n    response = self.send(request)\n  File \"/Library/Frameworks/Python.framework/Versions/3.8/lib/python3.8/site-packages/ibm_cloud_sdk_core/base_service.py\", line 228, in send\n    raise ApiException(\nibm_cloud_sdk_core.api_exception.ApiException: Error: invalid request: content is empty, Code: 400 , X-global-transaction-id: 666134db81efb3908e4ba83a0427a911\n\nDuring handling of the above exception, another exception occurred:\n\nTraceback (most recent call last):\n  File \"<ipython-input-16-e835b6b254f2>\", line 9, in analyze_text\n    response = natural_language_understanding.analyze(\n  File \"/Library/Frameworks/Python.framework/Versions/3.8/lib/python3.8/site-packages/ibm_watson/natural_language_understanding_v1.py\", line 185, in analyze\n    response = self.send(request)\n  File \"/Library/Frameworks/Python.framework/Versions/3.8/lib/python3.8/site-packages/ibm_cloud_sdk_core/base_service.py\", line 228, in send\n    raise ApiException(\nibm_cloud_sdk_core.api_exception.ApiException: Error: invalid request: content is empty, Code: 400 , X-global-transaction-id: abfb9fd4cedf8c42a8bf8c556694cac3\n\nDuring handling of the above exception, another exception occurred:\n\nTraceback (most recent call last):\n  File \"/Library/Frameworks/Python.framework/Versions/3.8/lib/python3.8/site-packages/ibm_cloud_sdk_core/base_service.py\", line 228, in send\n    raise ApiException(\nibm_cloud_sdk_core.api_exception.ApiException: Error: invalid request: content is empty, Code: 400 , X-global-transaction-id: 625202b5a6251050c622e5d148372e5a\nAnalysis exception, retrying...\nERROR:root:invalid request: content is empty\nTraceback (most recent call last):\n  File \"<ipython-input-16-e835b6b254f2>\", line 9, in analyze_text\n    response = natural_language_understanding.analyze(\n  File \"/Library/Frameworks/Python.framework/Versions/3.8/lib/python3.8/site-packages/ibm_watson/natural_language_understanding_v1.py\", line 185, in analyze\n    response = self.send(request)\n  File \"/Library/Frameworks/Python.framework/Versions/3.8/lib/python3.8/site-packages/ibm_cloud_sdk_core/base_service.py\", line 228, in send\n    raise ApiException(\nibm_cloud_sdk_core.api_exception.ApiException: Error: invalid request: content is empty, Code: 400 , X-global-transaction-id: e38a929b72b1a46f18fb2a789814e0f3\n\nDuring handling of the above exception, another exception occurred:\n\nTraceback (most recent call last):\n  File \"<ipython-input-16-e835b6b254f2>\", line 9, in analyze_text\n    response = natural_language_understanding.analyze(\n  File \"/Library/Frameworks/Python.framework/Versions/3.8/lib/python3.8/site-packages/ibm_watson/natural_language_understanding_v1.py\", line 185, in analyze\n    response = self.send(request)\n  File \"/Library/Frameworks/Python.framework/Versions/3.8/lib/python3.8/site-packages/ibm_cloud_sdk_core/base_service.py\", line 228, in send\n    raise ApiException(\nibm_cloud_sdk_core.api_exception.ApiException: Error: invalid request: content is empty, Code: 400 , X-global-transaction-id: 1b51f19299a79ba809329edd692d4bb3\n\nDuring handling of the above exception, another exception occurred:\n\nTraceback (most recent call last):\n  File \"<ipython-input-16-e835b6b254f2>\", line 9, in analyze_text\n    response = natural_language_understanding.analyze(\n  File \"/Library/Frameworks/Python.framework/Versions/3.8/lib/python3.8/site-packages/ibm_watson/natural_language_understanding_v1.py\", line 185, in analyze\n    response = self.send(request)\n  File \"/Library/Frameworks/Python.framework/Versions/3.8/lib/python3.8/site-packages/ibm_cloud_sdk_core/base_service.py\", line 228, in send\n    raise ApiException(\nibm_cloud_sdk_core.api_exception.ApiException: Error: invalid request: content is empty, Code: 400 , X-global-transaction-id: 666134db81efb3908e4ba83a0427a911\n\nDuring handling of the above exception, another exception occurred:\n\nTraceback (most recent call last):\n  File \"<ipython-input-16-e835b6b254f2>\", line 9, in analyze_text\n    response = natural_language_understanding.analyze(\n  File \"/Library/Frameworks/Python.framework/Versions/3.8/lib/python3.8/site-packages/ibm_watson/natural_language_understanding_v1.py\", line 185, in analyze\n    response = self.send(request)\n  File \"/Library/Frameworks/Python.framework/Versions/3.8/lib/python3.8/site-packages/ibm_cloud_sdk_core/base_service.py\", line 228, in send\n    raise ApiException(\nibm_cloud_sdk_core.api_exception.ApiException: Error: invalid request: content is empty, Code: 400 , X-global-transaction-id: abfb9fd4cedf8c42a8bf8c556694cac3\n\nDuring handling of the above exception, another exception occurred:\n\nTraceback (most recent call last):\n  File \"<ipython-input-16-e835b6b254f2>\", line 9, in analyze_text\n    response = natural_language_understanding.analyze(\n  File \"/Library/Frameworks/Python.framework/Versions/3.8/lib/python3.8/site-packages/ibm_watson/natural_language_understanding_v1.py\", line 185, in analyze\n    response = self.send(request)\n  File \"/Library/Frameworks/Python.framework/Versions/3.8/lib/python3.8/site-packages/ibm_cloud_sdk_core/base_service.py\", line 228, in send\n    raise ApiException(\nibm_cloud_sdk_core.api_exception.ApiException: Error: invalid request: content is empty, Code: 400 , X-global-transaction-id: 625202b5a6251050c622e5d148372e5a\n\nDuring handling of the above exception, another exception occurred:\n\nTraceback (most recent call last):\n  File \"/Library/Frameworks/Python.framework/Versions/3.8/lib/python3.8/site-packages/ibm_cloud_sdk_core/base_service.py\", line 228, in send\n    raise ApiException(\nibm_cloud_sdk_core.api_exception.ApiException: Error: invalid request: content is empty, Code: 400 , X-global-transaction-id: aee4ebea32f63f289025d542e97cd958\nAnalysis exception, retrying...\nAnalysis failed 5 times. Skipping.\nAnalyzing article 270 to 280\nAnalyzing article 280 to 290\nAnalyzing article 290 to 300\nAnalyzing article 300 to 310\nAnalyzing article 310 to 320\nAnalyzing article 320 to 330\nNo value for emotions.\nAnalyzing article 330 to 340\nAnalyzing article 340 to 350\nAnalyzing article 350 to 360\nAnalyzing article 360 to 370\nAnalysis done. All changes written.\n"
    }
   ],
   "source": [
    "newssources = ['People', 'Xinhua']\n",
    "\n",
    "analyze_newssources(newssources)"
   ]
  },
  {
   "cell_type": "markdown",
   "metadata": {},
   "source": [
    "# Postprocessing"
   ]
  },
  {
   "cell_type": "code",
   "execution_count": 96,
   "metadata": {},
   "outputs": [],
   "source": [
    "# @TODO: if this goes live, we should do the postprocessing while analyzing...\n",
    "def postprocess_newssources(newssources):\n",
    "\n",
    "  for newssource in newssources:\n",
    "      fpath = './dataset/us_media_analyzed/' + newssource + '.json'\n",
    "\n",
    "      # open json at fpath\n",
    "      with open(fpath) as f:\n",
    "        print('Opening ' + fpath)\n",
    "        data = json.load(f)\n",
    "\n",
    "      # append analysis\n",
    "      print('Postprocessing ' + newssource)\n",
    "      postprocess_newssource('./dataset/us_media_analyzed_postprocessed/' + newssource + ' postprocessed.json', data)"
   ]
  },
  {
   "cell_type": "code",
   "execution_count": 81,
   "metadata": {},
   "outputs": [],
   "source": [
    "def postprocess_newssource(fpath, data):\n",
    "    article_count = 0\n",
    "    \n",
    "    postprocessed_data = []\n",
    "\n",
    "    for article in data:\n",
    "        article_count += 1\n",
    "        if('watson_analysis' not in article):\n",
    "            print('No analysis, deleting')\n",
    "            continue\n",
    "            \n",
    "        analysis = article['watson_analysis']\n",
    "        if(analysis['sentiment'] == 'N/A' or analysis['sadness'] == 'N/A' or analysis['joy'] == 'N/A' or analysis['fear'] == 'N/A' or analysis['disgust'] == 'N/A' or analysis['anger'] == 'N/A'):\n",
    "            print('Analysis yielded N/A, deleting')\n",
    "            continue\n",
    "\n",
    "        postprocessed_data.append(article)\n",
    "\n",
    "    write_json(fpath, postprocessed_data)\n",
    "\n",
    "    print(article_count)"
   ]
  },
  {
   "cell_type": "code",
   "execution_count": 98,
   "metadata": {},
   "outputs": [
    {
     "name": "stdout",
     "output_type": "stream",
     "text": "Opening ./dataset/us_media_analyzed/ABCNews analyzed.json\nPostprocessing ABCNews analyzed\n238\nOpening ./dataset/us_media_analyzed/breitbart analyzed.json\nPostprocessing breitbart analyzed\n617\nOpening ./dataset/us_media_analyzed/CNN analyzed.json\nPostprocessing CNN analyzed\n316\nOpening ./dataset/us_media_analyzed/FoxNews analyzed.json\nPostprocessing FoxNews analyzed\n388\nOpening ./dataset/us_media_analyzed/New York Times analyzed.json\nPostprocessing New York Times analyzed\n479\nOpening ./dataset/us_media_analyzed/Washington Post analyzed.json\nPostprocessing Washington Post analyzed\nNo analysis, deleting\n833\n"
    }
   ],
   "source": [
    "newssources = ['ABCNews analyzed', 'breitbart analyzed', 'CNN analyzed', 'FoxNews analyzed', 'New York Times analyzed', 'Washington Post analyzed']\n",
    "\n",
    "postprocess_newssources(newssources)"
   ]
  },
  {
   "cell_type": "code",
   "execution_count": null,
   "metadata": {},
   "outputs": [],
   "source": []
  }
 ]
}