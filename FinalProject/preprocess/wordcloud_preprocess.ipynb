{
 "cells": [
  {
   "cell_type": "code",
   "execution_count": 89,
   "metadata": {},
   "outputs": [
    {
     "name": "stderr",
     "output_type": "stream",
     "text": [
      "[nltk_data] Downloading package punkt to /Users/yhkuo/nltk_data...\n",
      "[nltk_data]   Package punkt is already up-to-date!\n",
      "[nltk_data] Downloading package stopwords to /Users/yhkuo/nltk_data...\n",
      "[nltk_data]   Package stopwords is already up-to-date!\n",
      "[nltk_data] Downloading package wordnet to /Users/yhkuo/nltk_data...\n",
      "[nltk_data]   Package wordnet is already up-to-date!\n"
     ]
    }
   ],
   "source": [
    "import json\n",
    "import string\n",
    "import nltk\n",
    "from itertools import islice\n",
    "\n",
    "\n",
    "nltk.download('punkt')\n",
    "from nltk.tokenize import word_tokenize \n",
    "nltk.download('stopwords')\n",
    "from nltk.corpus import stopwords\n",
    "nltk.download('wordnet')\n",
    "from nltk.stem import WordNetLemmatizer\n",
    "\n",
    "import numpy as np"
   ]
  },
  {
   "cell_type": "markdown",
   "metadata": {},
   "source": [
    "## Preprocessing functions"
   ]
  },
  {
   "cell_type": "code",
   "execution_count": 55,
   "metadata": {},
   "outputs": [],
   "source": [
    "def tokenize(line):\n",
    "    punct = set(string.punctuation)\n",
    "    punct.update(['’','”','“','—'])\n",
    "    token = word_tokenize(line)\n",
    "    token = [''.join(c for c in s if c not in punct) for s in token]\n",
    "    return token\n",
    "\n",
    "def removeStopword(tokens):\n",
    "    stopWords = set(stopwords.words('english'))\n",
    "    return [ token.lower() for token in tokens if token.lower() not in stopWords ]\n",
    "\n",
    "def lemmatize(tokens):\n",
    "    return [ WordNetLemmatizer().lemmatize(token) for token in tokens ]\n",
    "\n",
    "def preprocess(line):\n",
    "    token = tokenize(line)\n",
    "    token = removeStopword(token)\n",
    "    lemmas = [ c for c in lemmatize(token) if c != '']\n",
    "    return lemmas"
   ]
  },
  {
   "cell_type": "code",
   "execution_count": 56,
   "metadata": {},
   "outputs": [],
   "source": [
    "def createFrequencyMatrix(lemmas):\n",
    "    frequency_matrix = {}\n",
    "    for i in range(len(lemmas)):\n",
    "        sen = lemmas[i]\n",
    "        for word in sen:\n",
    "            if word in frequency_matrix:\n",
    "                frequency_matrix[word] += 1\n",
    "            else:\n",
    "                frequency_matrix[word] = 1\n",
    "    return  {k: v for k, v in sorted(frequency_matrix.items(), key=lambda item: item[1], reverse=True)}"
   ]
  },
  {
   "cell_type": "code",
   "execution_count": 104,
   "metadata": {},
   "outputs": [
    {
     "name": "stdout",
     "output_type": "stream",
     "text": [
      "2871\n"
     ]
    }
   ],
   "source": [
    "dataPath = '../final-project/public/data/news.json'\n",
    "with open(dataPath) as file:\n",
    "    data = json.load(file)\n",
    "    print(len(data))"
   ]
  },
  {
   "cell_type": "code",
   "execution_count": 58,
   "metadata": {},
   "outputs": [],
   "source": [
    "threshold = 1\n",
    "for story in data:\n",
    "    content = story['content']\n",
    "    lemma = []\n",
    "    for line in content:\n",
    "        lemma.append(preprocess(line))\n",
    "    fq = createFrequencyMatrix(lemma)\n",
    "    \n",
    "    wordcloud = []\n",
    "    for key, value in fq.items():\n",
    "        if value > 1:\n",
    "            item = [key, value]\n",
    "            wordcloud.append(item)\n",
    "    \n",
    "    \n",
    "    story['wordcloud'] = wordcloud\n",
    "    scope = list(filter(lambda x: x > 1, list(fq.values())))\n",
    "    story['wordcloud_scope'] = {}\n",
    "    if scope:\n",
    "        story['wordcloud_scope']['Q3'] = int(np.quantile(scope, .75))\n",
    "        story['wordcloud_scope']['Q2'] = int(np.quantile(scope, .50))\n",
    "        story['wordcloud_scope']['Q1'] = int(np.quantile(scope, .25))\n",
    "    "
   ]
  },
  {
   "cell_type": "code",
   "execution_count": 59,
   "metadata": {},
   "outputs": [],
   "source": [
    "with open('../final-project/public/data/wordcloud.json', 'w') as file:\n",
    "    json.dump(data, file)"
   ]
  },
  {
   "cell_type": "markdown",
   "metadata": {},
   "source": [
    "## date subset"
   ]
  },
  {
   "cell_type": "code",
   "execution_count": 35,
   "metadata": {},
   "outputs": [],
   "source": [
    "#\"03/07/2020, 04:50:35\"\n",
    "date_encoding=\"%m/%d/%Y, %X\""
   ]
  },
  {
   "cell_type": "code",
   "execution_count": 68,
   "metadata": {},
   "outputs": [],
   "source": [
    "date = \"03/07/2020\""
   ]
  },
  {
   "cell_type": "code",
   "execution_count": 69,
   "metadata": {},
   "outputs": [],
   "source": [
    "specific = []\n",
    "for each in data:\n",
    "    if date in each['time-stamp']:\n",
    "        specific.append(each)"
   ]
  },
  {
   "cell_type": "code",
   "execution_count": 96,
   "metadata": {},
   "outputs": [],
   "source": [
    "def mergeFrequencyMatrix(fq, wordcloud):\n",
    "    for word, value in wordcloud:\n",
    "        if word in fq:\n",
    "            fq[word] += value\n",
    "        else:\n",
    "            fq[word] = value\n",
    "    return fq\n",
    "    #return  {k: v for k, v in sorted(frequency_matrix.items(), key=lambda item: item[1], reverse=True)}\n",
    "def take(n, iterable):\n",
    "    filtered = list(islice(iterable, n))\n",
    "    return dict((x,y) for x,y in filtered)"
   ]
  },
  {
   "cell_type": "code",
   "execution_count": 97,
   "metadata": {},
   "outputs": [
    {
     "name": "stdout",
     "output_type": "stream",
     "text": [
      "{'said': 2158, 'coronavirus': 1554, 'health': 1068, 'case': 982, 'state': 900, 'virus': 855, 'people': 851, 'friday': 761, 'official': 692, 'new': 647, 'outbreak': 637, 'week': 476, 'tested': 464, 'one': 452, 'positive': 422, 'would': 400, 'u': 397, 'patient': 393, 'two': 391, 'trump': 388, 'country': 377, 'spread': 374, 'public': 369, 'test': 368, 'home': 363, 'also': 346, 'according': 344, 'county': 331, 'thursday': 330, 'confirmed': 322, 'newsletter': 320, 'president': 313, 'ship': 309, 'china': 308, 'covid19': 306, 'employee': 303, 'reported': 302, 'resident': 296, 'news': 293, 'day': 291, 'first': 284, 'cruise': 276, 'work': 265, 'disease': 261, 'company': 258, 'travel': 253, 'told': 249, 'announced': 246, 'united': 244, 'worker': 241}\n"
     ]
    }
   ],
   "source": [
    "fq = {}\n",
    "for each in specific:\n",
    "    fq = mergeFrequencyMatrix(fq, each['wordcloud'])\n",
    "fq = {k: v for k, v in sorted(fq.items(), key=lambda item: item[1], reverse=True)}\n",
    "fq = take(50, fq.items())\n",
    "print(fq)"
   ]
  },
  {
   "cell_type": "code",
   "execution_count": 101,
   "metadata": {},
   "outputs": [],
   "source": [
    "def quantile(fq):\n",
    "    scope = list(filter(lambda x: x > 30, list(fq.values())))\n",
    "    return int(np.quantile(scope, .75)), int(np.quantile(scope, .50)), int(np.quantile(scope, .25))\n",
    "def DictToList(fq):\n",
    "    fq_list = []\n",
    "    for key, value in fq.items():\n",
    "        item = [key, value]\n",
    "        fq_list.append(item)\n",
    "    return fq_list"
   ]
  },
  {
   "cell_type": "code",
   "execution_count": 102,
   "metadata": {},
   "outputs": [],
   "source": [
    "df = {}\n",
    "df['wordcloud'] = DictToList(fq)\n",
    "df['wordcloud_scope'] = {}\n",
    "df['wordcloud_scope']['Q3'], df['wordcloud_scope']['Q2'], df['wordcloud_scope']['Q1'] = quantile(fq)"
   ]
  },
  {
   "cell_type": "code",
   "execution_count": 103,
   "metadata": {},
   "outputs": [],
   "source": [
    "with open('../final-project/public/data/wordcloud_day.json', 'w') as file:\n",
    "    json.dump(df, file)"
   ]
  },
  {
   "cell_type": "markdown",
   "metadata": {},
   "source": [
    "## textRank"
   ]
  },
  {
   "cell_type": "code",
   "execution_count": 107,
   "metadata": {},
   "outputs": [
    {
     "name": "stdout",
     "output_type": "stream",
     "text": [
      "['\\nA virus epidemic that started in China about two months ago is now tightening its grip around the globe.\\n', \"\\nToday's biggest developments:\\n\", \"\\nHere's the latest from Tuesday. All times are Eastern.\\n\", \"\\nOfficials at Amazon, the giant online retailer, said that one of the company's Seattle employees has contracted the coronavirus.\\n\", \"\\nIt was not immediately known what the employee's role was, but a company spokesperson said the infected person is now in quarantine.\\n\", '\\nAmazon has more than 50,000 employees in the Seattle region.\\n', '\\nThe number of coroavirus cases in South Korea jumped by 516 Tuesday, according to the Yonhap news agency. The country now has 5,328 cases in total.\\n', \"\\nThirty-two people have died from the virus in South Korea, according to the country's Centers for Disease Control.\\n\", '\\nVice President Mike Pence said all passengers coming into the U.S. from South Korea on direct flights would be subject to screening at South Korean airports.\\n', '\\nVice President Mike Pence, who is chairing the White House coronavirus task force, announced new guidelines from the U.S. Centers for Disease Control that all Americans can be tested for the virus following a doctor’s order, and that any clinician or health authority can administer the test.\\n', '\\nPence added that about 2,500 CDC-approved testing kits will be sent out by the end of the week.\\n', '\\nIn California, City of Berkeley Health Officer Dr. Lisa Hernandez announced that a Berkeley resident has tested positive for the virus.\\n', '\\nThe patient returned from a trip from one of the affected nations on Feb. 23 and largely stayed at home in a voluntary self-imposed quarantine, according to Hernandez.\\n', '\\nHealth officials are investigating whether the resident had contact with any other individuals.\\n', '\\nHealth Department officials in Santa Clara, California, are advising seniors and those with underlying health risks to avoid religious services, large parties and other big gatherings after the county confirmed two more positive coronavirus cases.\\n', '\\nThe county now has a total of 11 confirmed cases.\\n', '\\nHealth officials say vulnerable residents can go to locations like offices and grocery stores where “it is unusual for large numbers of people to be within arm’s length of one another,” but they advised senior centers and other similar facilities to cancel any planned large gatherings.\\n', '\\nNew Hampshire health officials announced their state has a second presumptive positive case of the coronavirus: an adult male from Grafton County who was in contact with the initial patient.\\n', '\\nBoth patients are isolated in their homes as officials await confirmation on tests from the CDC.\\n', '\\nThe initial patient, who works at Dartmouth-Hitchcock Medical Center (DHMC), allegedly ignored a directive to self-isolate and attended an invitation-only event on Friday, health officials said. Health Department officials are tracking down all the attendees and are instructing them to follow the recommended 14-day self-isolation.\\n', '\\nDHMC said it identified the staff members who were in close contact with the initial patient and will monitor them, health officials said.\\n', \"\\nGoogle announced that the company's I/O developers conference scheduled for May 12-14 has been canceled because of coronavirus concerns.\\n\", '\\nTicket holders will receive a full refund, the company said.\\n', '\\nTwelve of 30 firefighters and police officers in Kirkland, Washington, who were quarantined after potential or direct exposure to COVID-19 are showing flu-like symptoms, city officials confirmed.\\n', '\\nOne firefighter was released from being quarantined at a fire station after waiting for 14 days, officials said.\\n', '\\nAmong the remaining 29 first responders, 19 confirmed they had direct exposure to the virus while responding to calls at a care facility.\\n', '\\nU.S. stock markets, after rebounding on Monday, reversed those gains on Tuesday, closing 795 points lower.\\n', '\\nThat loss of 2.94% was mirrored closely by the S&P 500 and Nasdaq, which each tumbled by 2.81% and 2.99%, respectively.', '\\nEarlier in the day, the U.S. Federal Reserve announced it would cut interest rates by half a percentage point to help mitigate economic losses because of the coronavirus.\\n', '\\nA resident of North Carolina has tested positive for COVID-19, Gov. Roy Cooper announced Tuesday afternoon. He or she was exposed at a long-term care facility in Washington state where there is currently an outbreak, Cooper said.\\n', '\\nThe person is doing well and is being isolated at home, Cooper said. Local health officials are identifying close contacts to monitor symptoms and contain spread.\\n', '\\n\"I know that people are worried about this virus, and I want to assure North Carolinians our state is prepared,\" Cooper said. \"Our task force and state agencies are working closely with local health departments, health care providers and others to quickly identify and respond to cases that might occur.\"\\n', '\\nThe U.S. is monitoring other countries that have been badly affected by the coronavirus, such as Italy, South Korea and Japan, to see whether more stringent measures are necessary to prevent a mass outbreak in the U.S., President Donald Trump told reporters at a roundtable discussion at the National Institutes of Health Vaccine Research Center on Tuesday afternoon.\\n', '\\nTrump did not provide any specifics on what those measures would look like. When asked whether he was considering restricting domestic travel, Trump responded, \"We are not looking at that at all, no.\"\\n', '\\nThe president also told reporters that he\\'s not currently considering closing the southern border to stop the spread because \"We;re not seeing a lot of evidence of it in that area.\"\\n', '\\nHealth officials in King County in Seattle has reported an ninth death in the U.S. from the coronavirus, according to a statement.\\n', '\\nThe patient, who is in her 80s, died at her family home on Feb. 26, officials said.\\n', '\\nCounty officials also confirmed an additional seven cases of the virus, bringing the total confirmed cases to 21, which includes the patients who died.\\n', '\\nEight of the patients who died are from King County, one is from neighboring Snohomish County, which is reporting six total confirmed cases.\\n', '\\nThe U.S. Department of Health and Human Services is in discussions about using an emergency provision to reimburse uninsured patients or providers treating uninsured patients impacted by the coronavirus, HHS Assistant Secretary for Preparedness and Response Robert Kadlec told lawmakers Tuesday.\\n', '\\nThe program, the National Disaster Medical System, is typically used for natural disasters to supplement local medical systems, but it can be used to reimburse providers 110% of Medicare rates, Kadlac said.', '\\nA presumptive positive case of coronavirus in the state of Florida has been confirmed, said Gov. Ron DeSantis.\\n', '\\nThe woman is a California resident who tested presumptive positive after traveling to Italy with her sister, who was confirmed by the CDC as one of two positive cases in Hillsborough County on Monday.\\n', '\\nSince she is a California resident, the CDC will technically list her case under that state, but she is currently under self-isolation in Florida, DeSantis said.\\n', '\\nAn eighth person has died from the coronavirus in the U.S., according to a statement from the Harborview Medical Center in Seattle.\\n', '\\nThe patient was admitted to the hospital on Feb. 24 and died two days later, according to the statement. The patient had underlying medical conditions.\\n', '\\nWhile some staff may have been exposed while working in the intensive care unit where the patient was being treated, health officials do not believe any other patients were exposed.\\n', '\\nTwo major international conferences scheduled to take place in the U.S. have been canceled over the spread of COVID-19.\\n', '\\nLater this month, the U.S. was supposed to host a special Association of Southeast Asian Nations summit in Las Vegas, which brings together leaders from the bloc of Southeast Asian countries and others. A spokesperson for the U.S. State Department told ABC News that the administration and ASEAN partners had \"made the difficult decision to postpone the ASEAN leaders meeting\" indefinitely.\\n', '\\nIn addition, the World Bank and International Monetary Fund are not convening their annual spring meetings in Washington, D.C. and will instead hold them using a \"virtual format,\" according to a statement from World Bank President David Malpass and IMF Managing Director Kristalina Georgieva.\\n', '\\nThe meetings won\\'t be canceled or postponed but rather will be held via teleconference because a number of officials cannot travel and both organizations want to be \"responsible\" during the outbreak, an IMF spokesperson told ABC News.', \"\\nPresident Donald Trump has donated his salary from the fourth quarter of 2019 to the U.S. Department of Health and Human Services to support the battle against coronavirus. It's the fourth time Trump has donated a portion of his salary to HHS during his time as president.\\n\", '\\nWhite House press secretary Stephanie Grisham tweeted a photo of the check from Trump to the Office of the Assistant Secretary for Health. The check, in the amount of $100,000, is dated Jan. 29, 2020.\\n', '\\n\"Honoring that promise and to further protect the American people, he is donating his 2019 Q4 salary to @HHSGov to support the efforts being undertaken to confront, contain, and combat #Coronavirus,\" Grisham wrote.', '\\nTwelve states are currently reporting cases of coronavirus, most of which have occurred within the past two weeks, according to CDC officials.\\n', '\\nThe CDC is counting 108 cases of coronavirus in the U.S., including 60 confirmed by the local health systems, 45 from the Diamond Princess cruise and three repatriated from Wuhan, China.\\n', '\\nThe cases are likely a mix of travel-related, contact-related and community associated cases, officials said during a teleconference briefing Tuesday afternoon.\\n', '\\nOfficials urged those with expected exposure to the virus to reach out to their health care provider by phone in order to avoid additional spreading.', '\\nThe Westchester County man who has tested positive for coronavirus works in a small law firm in Manhattan that employs seven people, New York City Mayor Bill de Blasio said in a news conference Tuesday. The man, who is in his 50s, is now being hospitalized at New York–Presbyterian Hospital and is the first patient to become \"seriously ill\" and require hospitalization in New York, De Blasio said.\\n', '\\nThe patient has been suffering from respiratory symptoms for the past month which recently became more severe, according to the mayor.\\n', '\\nThe man has two children with a connection to New York City -- one who attends SAR Academy in Riverdale, who has no symptoms, and another who goes to school in New York City and has symptoms, De Blasio said. Both are being isolated at their home in Westchester County.', '\\nThe Metropolitan Transportation Authority will disinfect its entire fleet every 72 hours in response to the coronavirus arriving in New York, MTA Chairman and Chief Executive Officer Patrick Foye told reporters Tuesday.\\n', '\\nTrains, cars and buses will be cleaned daily as well as handrails, ticket machines, elevators and escalators, Foye said.\\n', '\\nMayor de Blasio urged New Yorkers to not panic about contracting the virus from public transportation, emphasizing that it is spread through \"prolonged\" contact rather than \"occasional\" or \"glancing\" contact.\\n', '\\nSince Monday afternoon, NYC transit has disinfected 427 stations and thousands of buses and subway cars. The Metro-North has also disinfected 60% of its fleet and 64 of 124 stations.\\n', '\\nCleaning occurs regularly, but the workers will be cleaning more aggressively and with more force, Foye said.\\n', '\\nThe evacuees aboard the Diamond Princess cruise will be released from quarantine Tuesday in an orderly way that \"mitigates community concerns about potential exposure,\" according to Texas officials.\\n', '\\nSeveral buses will transport passengers from Lackland Air Force Base in San Antonio directly to the airport in shifts that correspond with their flight times, officials said. Upon arrival, each group will be met by airport representatives, who will take them directly to the ticket counters, assist with baggage and facilitate movement through security.\\n', '\\nThe release of more than 120 passengers was delayed from Monday at the request of the city of San Antonio.', '\\nDr. Anthony Fauci, director of the National Institute of Allergy and Infectious Diseases, told senators during a hearing Tuesday that health officials should know within months whether the coronavirus vaccine being tested in the U.S. and China works.\\n', '\\nIf effective, the drug will be available almost immediately, Fauci said, adding that it will take at least a year to become available to the public.\\n', '\\nThe vaccine is on track to be \"literally the fastest that we have ever done,\" Fauci said.\\n', '\\nPresident Donald Trump said Tuesday that he told vaccine developers to \"speed it up.\"\\n', '\\n\"A lot of good things are happening and they\\'re happening very fast. I said, \\'Do me a favor, speed it up, speed it up,\\' and they will,\" Trump said during remarks at the National Association of Counties Legislative Conference. \"They\\'re working really hard and quick.\"\\n', '\\nAirlines have been directed by TSA at 280 airports around the world to ask U.S.-bound passengers about recent travel to China and Iran, but TSA Administrator David Pekoske said he is \"sure\" additional countries will be added to the list.\\n', '\\n\"Not a large number\" of non-U.S. citizens are being denied entry into the country, Pekoske said.\\n', '\\nIf necessary, the TSA will have a contingency plan in place if they have a lot of officers call out sick, he added.', '\\nHealth officials in Westchester County in New York investigating the possibility of additional cases related to the man who tested positive for the coronavirus on Tuesday.\\n', '\\nThe man is a regular commuter from New Rochelle through Grand Central and rises the Metro-North railway, a source familiar with the case told ABC News. It is unlikely that the man rides the subway from Grand Central Station, because his law firm is nearby.\\n', '\\nInvestigators are also tracking the movements of the man and his family within Westchester County, Westchester County Executive George Latimer told reporters at a news conference.\\n', '\\nIndividuals \"of concern\" may or may not require testing, said Westchester County Commissioner of Health Dr. Sherlita Amler.\\n', \"\\nThe man has two kids in the U.S., one who attends Salanter Akiba Riverdale Academy in the Bronx's Riverdale neighborhood, which has voluntarily closed. Another child is away at college, the source said. His other two kids are in Israel, Latimer said.\\n\", '\\nTwelve people in Westchester County who may have been exposed are currently undergoing quarantine, Latimer said.\\n', '\\nCoronavirus has led to the cancellation of several voting events in Italy via Democrats Abroad. Events in Milan, Padova, Verona, Venice and Bologna have been canceled, but events in Rome and Florence are expected to go ahead.\\n', '\\nLocal ordinances have canceled organized gatherings to combating the spread of the virus.\\n', \"\\nHowever, coronavirus isn't expected to have much effect on voting itself because international voting in primaries via Democrats Abroad happens overwhelmingly remotely.\\n\", '\\nDemocrats living outside the U.S. can choose to vote in their own state according to whatever rules apply to remote voting there. Or they can choose to vote through Democrats Abroad, where their vote goes into one big international pool to distribute 21 delegates proportionally among Democratic candidates.', '\\nFDA Commissioner Stephen Hahn said during a hearing Tuesday morning that state labs should have the ability to conduct up to a million tests by the end of the week.\\n', '\\nHahn said that 2,500 test kits should be distributed to labs by the end of the week and each kit has the ability to conduct 500 tests.\\n', \"\\nAnne Schuchat, principal deputy director of the CDC, said they are rapidly supplying public health labs with tests, but emphasized that public health labs only represent a small portion of all the tests run of respiratory samples during flu season and that the majority of people with respiratory symptoms don't get tested.\\n\", '\\n\"By the end of this week really all the state labs the public health labs should be able to do testing,\" she said\\n', '\\nWhile addressing a press briefing in Geneva on Tuesday, World Health Organization Director-General Tedros Adhanom Ghebreyesus described the novel coronavirus as \"a unique virus with unique characteristics.\"\\n', '\\nBased on data collected thus far, scientists believe the newly identified virus, known officially as COVID-19, does not transmit as efficiently as influenza. With the common flu, people who are infected but not yet sick are \"major drivers\" of contagion, Tedros said, \"which does not appear to be the case with COVID-19.\"\\n', \"\\nIn China, the epicenter of the global outbreak, less than 1% of reported cases are people who aren't symptomatic and most of them develop symptoms within two days, according to Tedros.\", '\\nAs of Tuesday, there were 90,893 confirmed cases of COVID-19 worldwide and 3,110 deaths. The vast majority of cases were reported in China.\\n', '\\nOutside China, there were 1,848 cases confirmed in the past 24 hours -- 80% of which were reported in South Korea, Italy and Iran.\\n', '\\nTo date, 122 countries have yet not reported any confirmed cases, according to Tedros.\\n', '\\nA New York man who is the latest American to be infected with the novel coronavirus had traveled to and from Israel through January and February, a source familiar with the case told ABC News.\\n', '\\nIsrael had 10 confirmed cases of the newly identified virus as of Tuesday, according to the World Health Organization.\\n', '\\nNew York Gov. Andrew Cuomo didn\\'t mention that detail of the man\\'s travel history during a press conference on Tuesday, but he did say the patient is believed to have contracted the virus through \"community spread,\" without specifying exactly where.\\n', '\\nThe latest American to be diagnosed with the novel coronavirus is receiving treatment at a New York City hospital where he remains \"in serious condition,\" according to New York City Mayor Bill de Blasio.\\n', '\\nThe patient received the diagnosis on Monday after a test conducted by the New York City Public Health Laboratory came back positive, de Blasio said.\\n', '\\n\"City and state disease detectives are working closely to identify close contacts and the appropriate next steps,\" the mayor said in a statement Tuesday. \"With the results confirmed within a number of hours, we were immediately able to take next steps to stop the spread of this virus. We have said from the beginning that it is likely we will see more positive cases of the Coronavirus. We are working closely with our state and federal partners to ensure we are taking the highest precautions to keep New Yorkers safe.\"', '\\nThe man is a resident of New Rochelle and works as a lawyer at a law firm in New York City, according to New York Gov. Andrew Cuomo. The patient was initially admitted to Lawrence Hospital in Bronxville and later transferred to a New York City hospital.\\n', \"\\nIt's unknown whether he has recently used any public transportation.\\n\", '\\nThe patient is believed to be the latest case of \"community spread\" in the United States, meaning the person had no travel history or known contact with infected individuals. The man had recently traveled to Miami but that was prior to the infectious period, according to New York State Health Commissioner Dr. Howard Zucker.\\n', \"\\nA man has tested positive for the novel coronavirus in New York's Westchester County, according to the governor's office.\\n\", '\\nNew York Gov. Andrew Cuomo\\'s office said Tuesday that the patient has no apparent connection to China or any of the hot-spot countries, and he may be another example of \"community spread\" on U.S. soil. He had recently traveled to Miami.\\n', \"\\nThe man, who is in his 50s and suffers from an underlying respiratory illness, has been hospitalized. He lives with his family in Westchester County and works in New York City, according to the governor's office.\", '\\nSome schools in Westchester County announced closures Tuesday upon word of the confirmed case.\\n', \"\\nNew York state health officials are also testing two families in Buffalo who recently returned from Italy. They have been quarantined, according to the governor's office.\\n\", '\\nU.K. Prime Minister Boris Johnson warned it\\'s \"highly likely\" that the country will see \"a growing number\" of cases on British soil.\\n', '\\n\"That\\'s why keeping the country safe is the government\\'s overriding priority\" Johnson said at a press conference in London on Tuesday, while launching a domestic plan to combat the virus. \"The U.K. will take all necessary and reasonable steps to prepare for and tackle this outbreak.\"', '\\nThe prime minister said the plan will unfold in four stages: containing the virus, delaying its spread, researching its origin and for a cure, and mitigating the impact of the virus.\\n', '\\n\"Our plan means we\\'re committed to doing everything possible, based on the advice of our world-leading scientific experts to prepare for all eventualities,\" he added.\\n', '\\nJohnson said up to one fifth of employees could be off work in the United Kingdom when the outbreak peaks. He urged members of the public to do their own part in fighting the virus, by continuing to wash hands with soap and hot water \"for the length of time it takes to sing happy birthday twice.\"\\n', '\\nScientists still have a ways to go to develop a vaccine for the novel coronavirus, according to Dr. Anthony Fauci, director of the National Institute of Allergy and Infectious Diseases.\\n', '\\n\"We are at least a year away,\" Fauci told ABC News in an interview Tuesday on \"Good Morning America.\"\\n', '\\nHealth officials could know \"within a period of a few months\" whether any developed therapeutics work in fighting the illness, he said.\\n', '\\nFauci also warned it\\'s \"very likely\" that more cases will be confirmed in the United States as the virus continues to spread on the community level.\\n', '\\n\"The source of these infections are not entirely known,\" he told ABC News. \"You cant really trace where they got it.\"\\n', '\\nChina has reported its lowest number of new cases since Jan. 23 when authorities imposed a lockdown on the city of Wuhan, the epicenter of the novel coronavirus outbreak.\\n', \"\\nChina's National Health Commission said it recorded 125 new cases of confirmed infections on Monday. The death rate also appeared to be stabilizing over the past few days, with 31 new fatalities recorded Monday -- all in Hubei province, which includes Wuhan.\", '\\nHowever, the country is now seeing a spike in cases being imported back in from other virus-hit nations, such as Italy and Iran.\\n', '\\nZhejiang province reported eight imported cases from Italy on Monday, all traced to a Chinese restaurant in the Italian city of Bergamo, officials said.\\n', '\\nThe surge in imported cases has prompted the cities of Beijing and Shanghai as well as the province of Guangdong to impose quarantine rules on travelers arriving from Italy.\\n', '\\nSouth Korean President Moon Jae-in has declared \"war\" on the novel coronavirus after the country recorded 600 new infections on Tuesday, bringing its total to 4,812.\\n', \"\\nAt least 28 people have died so far, according to South Korea's Centers for Disease Control and Prevention.\", '\\nA majority of the confirmed cases have been linked to a secretive religious sect in Daegu, a city in North Gyeongsang province.\\n', '\\n\"The crisis in Daegu and North Gyeongsang province reached its peak and the whole country has entered a war against the infectious disease,\" Moon said at a press conference Tuesday.\\n', \"\\nUkraine has confirmed its first case of the novel coronavirus, Ihor Kuzin, the acting head of the Ukrainian health ministry's Public Health Center, told ABC News on Tuesday.\\n\", '\\nThe patient is a 38-year-old man who had travelled with his wife from Italy to Ukraine via Romania on Saturday. He was hospitalized in his home city of Chernivtsi upon arrival that day. He is in stable condition and has a mild case of the illness, Kuzin said.', \"\\nHealth officials have traced all individuals who came in contact with the patient, and they too will be quarantined and tested. The man's wife initially tested negative for the virus but will be tested again Tuesday, according to Kuzin.\\n\", '\\nAt least 64 other nations have confirmed cases of the novel coronavirus, with South Korea, Italy and Iran having the highest national totals, respectively, behind China. The World Health Organization, which has declared the outbreak a global health emergency and warned of its \"pandemic potential,\" has recorded nearly 90,000 confirmed infections and over 3,000 deaths worldwide. China remains the hardest-hit country by far, accounting for over 90 percent of cases and fatalities.', '\\nHowever, China appears to be winning its battle against the newly identified virus, known officially as COVID-19, which emerged in the city of Wuhan back in December. The number of new cases reported each day has plummeted in recent weeks and hospitals are sending thousands of recovered patients home.', '\\n\"We definitely believe that with the coming of spring, we are not far from the coming of the victory, of the final defeat of COVID-19,\" Chinese Ambassador to the United Nations, Zhang Jun, told reporters in New York City on Monday.', '\\nMeanwhile, an outbreak is growing in the United States where over 100 cases have been confirmed in at least 11 states as of Tuesday morning, according to The Associated Press. That number includes 48 people who were repatriated to the United States on charter flights from Wuhan, China, or from the Diamond Princess cruise ship quarantined off the coast of Japan. There have also been several instances of community-acquired cases on U.S. soil in which the patients had no known exposure to the virus through travel or close contact with a known infected individual.', '\\nAt least six Americans sickened with the virus have died.', '\\nU.S. President Donald Trump met with pharmaceutical companies at the White House on Monday to discuss the progress being made in trying to rapidly develop a vaccine.\\n', '\\nCOVID-19 causes symptoms similar to pneumonia, ranging from the mild, such as a slight cough, to the more severe, including fever and difficulty breathing, according to the U.S. Centers for Disease Control and Prevention. There is no vaccine yet for the virus.\\n', \"\\nABC News' Liz Alesse, Alice Chambers, Stephanie Ebbs, Conor Finnegan, Sabina Ghebremedhin, Ben Gittleson, Joshua Hoyos, Mina Kaji, Aaron Katersky, Rachel Katz, Dragana Jovanovic, Bonnie Mclean, Jordyn Phelps, Christine Theodorou and Karson Yiu contributed to this report.\"]\n"
     ]
    }
   ],
   "source": [
    "test = data[0]['content']\n",
    "content = []\n",
    "for line in test:\n",
    "    line.encode()."
   ]
  },
  {
   "cell_type": "code",
   "execution_count": null,
   "metadata": {},
   "outputs": [],
   "source": []
  }
 ],
 "metadata": {
  "kernelspec": {
   "display_name": "Python 3",
   "language": "python",
   "name": "python3"
  },
  "language_info": {
   "codemirror_mode": {
    "name": "ipython",
    "version": 3
   },
   "file_extension": ".py",
   "mimetype": "text/x-python",
   "name": "python",
   "nbconvert_exporter": "python",
   "pygments_lexer": "ipython3",
   "version": "3.7.6"
  }
 },
 "nbformat": 4,
 "nbformat_minor": 4
}
