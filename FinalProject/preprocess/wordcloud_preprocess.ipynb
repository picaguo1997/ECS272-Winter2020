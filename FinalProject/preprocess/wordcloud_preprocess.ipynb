{
 "cells": [
  {
   "cell_type": "code",
   "execution_count": 2,
   "metadata": {},
   "outputs": [
    {
     "name": "stderr",
     "output_type": "stream",
     "text": [
      "[nltk_data] Downloading package punkt to /Users/yhkuo/nltk_data...\n",
      "[nltk_data]   Package punkt is already up-to-date!\n",
      "[nltk_data] Downloading package stopwords to /Users/yhkuo/nltk_data...\n",
      "[nltk_data]   Package stopwords is already up-to-date!\n",
      "[nltk_data] Downloading package wordnet to /Users/yhkuo/nltk_data...\n",
      "[nltk_data]   Package wordnet is already up-to-date!\n"
     ]
    }
   ],
   "source": [
    "import json\n",
    "import string\n",
    "import nltk\n",
    "\n",
    "nltk.download('punkt')\n",
    "from nltk.tokenize import word_tokenize \n",
    "nltk.download('stopwords')\n",
    "from nltk.corpus import stopwords\n",
    "nltk.download('wordnet')\n",
    "from nltk.stem import WordNetLemmatizer\n",
    "\n",
    "import spacy"
   ]
  },
  {
   "cell_type": "markdown",
   "metadata": {},
   "source": [
    "## Preprocessing functions"
   ]
  },
  {
   "cell_type": "code",
   "execution_count": 3,
   "metadata": {},
   "outputs": [],
   "source": [
    "def tokenize(line):\n",
    "    punct = set(string.punctuation)\n",
    "    token = word_tokenize(line)\n",
    "    token = [''.join(c for c in s if c not in punct) for s in token]\n",
    "    return token\n",
    "\n",
    "def removeStopword(tokens):\n",
    "    stopWords = set(stopwords.words('english'))\n",
    "    return [ token.lower() for token in tokens if token.lower() not in stopWords ]\n",
    "\n",
    "def lemmatize(tokens):\n",
    "    return [ WordNetLemmatizer().lemmatize(token) for token in tokens ]\n",
    "\n",
    "def preprocess(line):\n",
    "    token = tokenize(line)\n",
    "    token = removeStopword(token)\n",
    "    lemmas = [ c for c in lemmatize(token) if c != '']\n",
    "    return lemmas"
   ]
  },
  {
   "cell_type": "code",
   "execution_count": 4,
   "metadata": {},
   "outputs": [],
   "source": [
    "def createFrequencyMatrix(lemmas):\n",
    "    frequency_matrix = {}\n",
    "    for i in range(len(lemmas)):\n",
    "        sen = lemmas[i]\n",
    "        for word in sen:\n",
    "            if word in frequency_matrix:\n",
    "                frequency_matrix[word] += 1\n",
    "            else:\n",
    "                frequency_matrix[word] = 1\n",
    "    return  {k: v for k, v in sorted(frequency_matrix.items(), key=lambda item: item[1], reverse=True)}"
   ]
  },
  {
   "cell_type": "code",
   "execution_count": 14,
   "metadata": {},
   "outputs": [
    {
     "name": "stdout",
     "output_type": "stream",
     "text": [
      "2871\n"
     ]
    }
   ],
   "source": [
    "dataPath = '../final-project/public/data/news.json'\n",
    "with open(dataPath) as file:\n",
    "    data = json.load(file)\n",
    "    print(len(data))"
   ]
  },
  {
   "cell_type": "code",
   "execution_count": 17,
   "metadata": {},
   "outputs": [],
   "source": [
    "threshold = 1\n",
    "for story in data:\n",
    "    content = story['content']\n",
    "    lemma = []\n",
    "    for line in content:\n",
    "        lemma.append(preprocess(line))\n",
    "    fq = createFrequencyMatrix(lemma)\n",
    "    \n",
    "    wordcloud = []\n",
    "    for key, value in fq.items():\n",
    "        if value > 1:\n",
    "            item = {}\n",
    "            item['word'] = key\n",
    "            item['value'] = value\n",
    "            wordcloud.append(item)\n",
    "    story['wordcloud'] = wordcloud"
   ]
  },
  {
   "cell_type": "code",
   "execution_count": 18,
   "metadata": {},
   "outputs": [],
   "source": [
    "with open('../final-project/public/data/wordcloud.json', 'w') as file:\n",
    "    json.dump(data, file)"
   ]
  },
  {
   "cell_type": "code",
   "execution_count": null,
   "metadata": {},
   "outputs": [],
   "source": []
  }
 ],
 "metadata": {
  "kernelspec": {
   "display_name": "Python 3",
   "language": "python",
   "name": "python3"
  },
  "language_info": {
   "codemirror_mode": {
    "name": "ipython",
    "version": 3
   },
   "file_extension": ".py",
   "mimetype": "text/x-python",
   "name": "python",
   "nbconvert_exporter": "python",
   "pygments_lexer": "ipython3",
   "version": "3.7.6"
  }
 },
 "nbformat": 4,
 "nbformat_minor": 4
}
