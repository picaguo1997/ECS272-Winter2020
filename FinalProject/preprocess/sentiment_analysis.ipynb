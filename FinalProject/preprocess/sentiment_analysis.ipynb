{
 "nbformat": 4,
 "nbformat_minor": 2,
 "metadata": {
  "language_info": {
   "name": "python",
   "codemirror_mode": {
    "name": "ipython",
    "version": 3
   },
   "version": "3.8.2-final"
  },
  "orig_nbformat": 2,
  "file_extension": ".py",
  "mimetype": "text/x-python",
  "name": "python",
  "npconvert_exporter": "python",
  "pygments_lexer": "ipython3",
  "version": 3,
  "kernelspec": {
   "name": "python38264bitaef2fc367f824de291236bedd403ad13",
   "display_name": "Python 3.8.2 64-bit"
  }
 },
 "cells": [
  {
   "cell_type": "code",
   "execution_count": 76,
   "metadata": {},
   "outputs": [],
   "source": [
    "import polyglot\n",
    "from polyglot.text import Text, Word\n",
    "import json"
   ]
  },
  {
   "cell_type": "code",
   "execution_count": 132,
   "metadata": {},
   "outputs": [],
   "source": [
    "def analyze_newspaper(path):\n",
    "    no_articles = 0\n",
    "    sum_pos_sent = 0\n",
    "    sum_neg_sent = 0\n",
    "\n",
    "    with open(path) as f:\n",
    "        data = json.load(f)\n",
    "\n",
    "    for date in data:\n",
    "        for article in data[date]:\n",
    "            no_articles += 1\n",
    "\n",
    "            text = Text(str(article['content']))\n",
    "            pos_sent, neg_sent = calculate_avg_sentiment(text)\n",
    "\n",
    "            sum_pos_sent += pos_sent\n",
    "            sum_neg_sent += neg_sent\n",
    "\n",
    "            if(no_articles == 1 or no_articles % 10 == 0):\n",
    "                print('Parsing article ' + str(no_articles) + ' - ' + str(no_articles + 10))\n",
    "    \n",
    "    avg_pos_sent = sum_pos_sent / no_articles\n",
    "    avg_neg_sent = sum_neg_sent / no_articles\n",
    "\n",
    "    return avg_pos_sent, avg_neg_sent"
   ]
  },
  {
   "cell_type": "code",
   "execution_count": 133,
   "metadata": {},
   "outputs": [],
   "source": [
    "def calculate_avg_sentiment(text):\n",
    "    no_entities = 0\n",
    "    sum_positive_sentiment = 0\n",
    "    sum_negative_sentiment = 0\n",
    "    avg_positive_sentiment = 0\n",
    "    avg_negative_sentiment = 0\n",
    "\n",
    "    for entity in text.entities:\n",
    "        no_entities += 1\n",
    "        sum_positive_sentiment += entity.positive_sentiment\n",
    "        sum_negative_sentiment += entity.negative_sentiment\n",
    "\n",
    "    avg_positive_sentiment = sum_positive_sentiment / no_entities\n",
    "    avg_negative_sentiment = sum_negative_sentiment / no_entities\n",
    "\n",
    "    return avg_positive_sentiment, avg_negative_sentiment"
   ]
  },
  {
   "cell_type": "code",
   "execution_count": 137,
   "metadata": {},
   "outputs": [
    {
     "name": "stdout",
     "output_type": "stream",
     "text": "Parsing article 1 - 11\nParsing article 10 - 20\nParsing article 20 - 30\nParsing article 30 - 40\nParsing article 40 - 50\nParsing article 50 - 60\nParsing article 60 - 70\nParsing article 70 - 80\nParsing article 80 - 90\nParsing article 90 - 100\nParsing article 100 - 110\nParsing article 110 - 120\nParsing article 120 - 130\nParsing article 130 - 140\nParsing article 140 - 150\nParsing article 150 - 160\nParsing article 160 - 170\nParsing article 1 - 11\nParsing article 10 - 20\nParsing article 20 - 30\nParsing article 30 - 40\nParsing article 40 - 50\nParsing article 50 - 60\nParsing article 60 - 70\nParsing article 70 - 80\nParsing article 80 - 90\nParsing article 90 - 100\nParsing article 100 - 110\nParsing article 110 - 120\nParsing article 120 - 130\nParsing article 130 - 140\nParsing article 140 - 150\nParsing article 150 - 160\nParsing article 160 - 170\nParsing article 170 - 180\nParsing article 180 - 190\nParsing article 190 - 200\nParsing article 200 - 210\nParsing article 210 - 220\nParsing article 220 - 230\nParsing article 230 - 240\nParsing article 240 - 250\nParsing article 250 - 260\nParsing article 260 - 270\nParsing article 1 - 11\nParsing article 10 - 20\nParsing article 20 - 30\nParsing article 30 - 40\nParsing article 40 - 50\nParsing article 50 - 60\nParsing article 60 - 70\nParsing article 70 - 80\nParsing article 80 - 90\nParsing article 90 - 100\nParsing article 100 - 110\nParsing article 110 - 120\nParsing article 120 - 130\nParsing article 130 - 140\nParsing article 140 - 150\nParsing article 150 - 160\nParsing article 160 - 170\nParsing article 170 - 180\nParsing article 180 - 190\n"
    }
   ],
   "source": [
    "bbc_pos_sent, bbc_neg_sent = analyze_newspaper('./processed_bbc.json')\n",
    "breitbart_pos_sent, breitbart_neg_sent = analyze_newspaper('./processed_breitbart.json')\n",
    "fox_pos_sent, fox_neg_sent = analyze_newspaper('./processed_fox.json')"
   ]
  },
  {
   "cell_type": "code",
   "execution_count": 139,
   "metadata": {},
   "outputs": [
    {
     "name": "stdout",
     "output_type": "stream",
     "text": "BBC: avg_pos_sent: 0.1745100468581213, avg_neg_sent: 0.5930060674133537\nBreitbart: avg_pos_sent: 0.17343044461977028, avg_neg_sent: 0.6036256933024033\nFOX: avg_pos_sent: 0.23539633700229734, avg_neg_sent: 0.5400802599265526\n"
    }
   ],
   "source": [
    "print('BBC: avg_pos_sent: ' + str(bbc_pos_sent) + ', avg_neg_sent: ' + str(bbc_neg_sent))\n",
    "print('Breitbart: avg_pos_sent: ' + str(breitbart_pos_sent) + ', avg_neg_sent: ' + str(breitbart_neg_sent))\n",
    "print('FOX: avg_pos_sent: ' + str(fox_pos_sent) + ', avg_neg_sent: ' + str(fox_neg_sent))"
   ]
  },
  {
   "cell_type": "code",
   "execution_count": null,
   "metadata": {},
   "outputs": [],
   "source": []
  },
  {
   "cell_type": "code",
   "execution_count": 26,
   "metadata": {},
   "outputs": [
    {
     "name": "stdout",
     "output_type": "stream",
     "text": "\", \"There have been more than 60 confirmed cases of the new coronavirus, but UK experts estimate a figure nearer 1,700.\", \"Two people are known to have died from the respiratory illness, which appeared in Wuhan city in December.\n"
    }
   ],
   "source": [
    "first_sentence = text.sentences[1]\n",
    "print(first_sentence)"
   ]
  },
  {
   "cell_type": "code",
   "execution_count": 27,
   "metadata": {},
   "outputs": [
    {
     "name": "stdout",
     "output_type": "stream",
     "text": "['Wuhan']\n"
    }
   ],
   "source": [
    "first_entity = first_sentence.entities[0]\n",
    "print(first_entity)"
   ]
  },
  {
   "cell_type": "code",
   "execution_count": 30,
   "metadata": {},
   "outputs": [
    {
     "name": "stdout",
     "output_type": "stream",
     "text": "Word            Polarity\n------------------------------\nThe              0\nnumber           0\nof               0\npeople           0\nalready          0\ninfected        -1\nby               0\nthe              0\nmystery         -1\nvirus           -1\nemerging         0\nin               0\nChina            0\nis               0\nfar              0\ngreater          0\nthan             0\nofficial         0\nfigures          0\nsuggest          0\n,                0\nscientists       0\nhave             0\ntold             0\nthe              0\nBBC              0\n.                0\n\"                0\n,                0\n\"                0\nThere            0\nhave             0\nbeen             0\nmore             0\nthan             0\n60               0\nconfirmed        0\ncases            0\nof               0\nthe              0\nnew              0\ncoronavirus      0\n,                0\nbut              0\nUK               0\nexperts          0\nestimate         0\na                0\nfigure           0\nnearer           0\n1,700            0\n.                0\n\"                0\n,                0\n\"                0\nTwo              0\npeople           0\nare              0\nknown            0\nto               0\nhave             0\ndied            -1\nfrom             0\nthe              0\nrespiratory      0\nillness         -1\n,                0\nwhich            0\nappeared         0\nin               0\nWuhan            0\ncity             0\nin               0\nDecember         0\n.                0\n\"                0\n,                0\n\"                0\n\"                0\nI                0\nam               0\nsubstantially    0\nmore             0\nconcerned       -1\nthan             0\nI                0\nwas              0\na                0\nweek             0\nago              0\n,                0\n\"                0\ndisease          0\noutbreak        -1\nscientist        0\nProf             0\nNeil             0\nFerguson         0\n,                0\nsaid             0\n.                0\n\"                0\n,                0\n\"                0\nThe              0\nwork             1\nwas              0\nconducted        0\nby               0\nthe              0\nMRC              0\nCentre           0\nfor              0\nGlobal           0\nInfectious       0\nDisease          0\nAnalysis         0\nat               0\nImperial         0\nCollege          0\nLondon           0\n,                0\nwhich            0\nadvises          0\nbodies           0\nincluding        0\nthe              0\nUK               0\ngovernment       0\nand              0\nthe              0\nWorld            0\nHealth           0\nOrganization     0\n(                0\nWHO              0\n)                0\n.                0\n\"                0\n,                0\n\"                0\nSingapore        0\nand              0\nHong             0\nKong             0\nhave             0\nbeen             0\nscreening        0\nair              0\npassengers       0\nfrom             0\nWuhan            0\n,                0\nand              0\nUS               0\nauthorities      0\nannounced        0\nsimilar          0\nmeasures         0\nstarting         0\non               0\nFriday           0\nat               0\nthree            0\nmajor            0\nairports         0\nin               0\nSan              0\nFrancisco        0\n,                0\nLos              0\nAngeles          0\nand              0\nNew              0\nYork             0\n.                0\n\"                0\n,                0\n\"                0\nThe              0\ncrucial          0\nclue             0\nto               0\nthe              0\nscale            0\nof               0\nthe              0\nproblem         -1\nlies            -1\nin               0\nthe              0\ncases            0\nbeing            0\ndetected         0\nin               0\nother            0\ncountries        0\n.                0\n\"                0\n,                0\n\"                0\nWhile            0\nthe              0\noutbreak        -1\nis               0\ncentred          0\non               0\nthe              0\ncentral          0\nChinese          0\ncity             0\nof               0\nWuhan            0\n,                0\nthere            0\nhave             0\nbeen             0\ntwo              0\ncases            0\nin               0\nThailand         0\nand              0\none              0\nin               0\nJapan            0\n.                0\n\"                0\n,                0\n\"                0\n\"                0\nThat             0\ncaused           0\nme               0\nto               0\nworry           -1\n,                0\n\"                0\nsaid             0\nProf             0\nFerguson         0\n.                0\n\"                0\n,                0\n\"                0\nHe               0\nadded            0\n:                0\n\"                0\nFor              0\nWuhan            0\nto               0\nhave             0\nexported         0\nthree            0\ncases            0\nto               0\nother            0\ncountries        0\nwould            0\nimply            0\nthere            0\nwould            0\nhave             0\nto               0\nbe               0\nmany             0\nmore             0\ncases            0\nthan             0\nhave             0\nbeen             0\nreported         0\n.                0\n\"                0\n\"                0\n,                0\n\"                0\nIt               0\nis               0\nimpossible      -1\nto               0\nget              0\nthe              0\nprecise          1\nnumber           0\n,                0\nbut              0\noutbreak        -1\nmodelling        0\n,                0\nwhich            0\nis               0\nbased            0\non               0\nthe              0\nvirus           -1\n,                0\nthe              0\nlocal            0\npopulation       0\nand              0\nflight           0\ndata             0\n,                0\ncan              0\ngive             0\nan               0\nidea             0\n.                0\n\"                0\n,                0\n\"                0\nWuhan            0\nInternational    0\nAirport          0\nserves           0\na                0\npopulation       0\nof               0\n19               0\nmillion          0\npeople           0\n,                0\nbut              0\nonly             0\n3,400            0\na                0\nday              0\ntravel           0\ninternationally  0\n.                0\n\"                0\n,                0\n\"                0\nThe              0\ndetailed         0\ncalculations     0\n,                0\nwhich            0\nhave             0\nbeen             0\nposted           0\nonline           0\nahead            0\nof               0\npublication      0\nin               0\na                0\nscientific       0\njournal          0\n,                0\ncame             0\nup               0\nwith             0\na                0\nfigure           0\nof               0\n1,700            0\ncases            0\n.                0\n\"                0\n,                0\n\"                0\nProf             0\nFerguson         0\nsaid             0\nit               0\nwas              0\n\"                0\ntoo              0\nearly            0\nto               0\nbe               0\nalarmist         0\n\"                0\nbut              0\nhe               0\nwas              0\n\"                0\nsubstantially    0\nmore             0\nconcerned       -1\n\"                0\nthan             0\na                0\nweek             0\nago              0\n.                0\n\"                0\n,                0\n\"                0\nChinese          0\nofficials        0\nsay              0\nthere            0\nhave             0\nbeen             0\nno               0\ncases            0\nof               0\nthe              0\nvirus           -1\nspreading        0\nfrom             0\none              0\nperson           0\nto               0\nanother          0\n.                0\n\"                0\n,                0\n\"                0\nInstead          0\nthey             0\nsay              0\nthe              0\nvirus           -1\nhas              0\ncrossed          0\nthe              0\nspecies          0\nbarrier          0\nand              0\ncome             0\nfrom             0\ninfected        -1\nanimals          0\nat               0\na                0\nseafood          0\nand              0\nwildlife         0\nmarket           0\nin               0\nWuhan            0\n.                0\n\"                0\n,                0\n\"                0\nProf             0\nFerguson         0\nargues           0\n:                0\n\"                0\nPeople           0\nshould           0\nbe               0\nconsidering      0\nthe              0\npossibility      0\nof               0\nsubstantial      0\nhuman            0\n-                0\nto               0\n-                0\nhuman            0\ntransmission     0\nmore             0\nseriously        0\nthan             0\nthey             0\nhave             0\nso               0\nfar              0\n.                0\n\"                0\n,                0\n\"                0\n\"                0\nIt               0\nwould            0\nbe               0\nunlikely        -1\nin               0\nmy               0\nmind             0\n,                0\ngiven            0\nwhat             0\nwe               0\nknow             0\nabout            0\ncoronaviruses    0\n,                0\nto               0\nhave             0\nanimal           0\nexposure         0\n,                0\nbe               0\nthe              0\nprincipal        0\ncause            0\nof               0\nsuch             0\na                0\nnumber           0\nof               0\nhuman            0\ninfections      -1\n.                0\n\"                0\n\"                0\n,                0\n\"                0\nUnderstanding    0\nhow              0\na                0\nnovel            0\nvirus           -1\nis               0\nspreading        0\nis               0\na                0\ncrucial          0\npart             0\nof               0\nassessing        0\nits              0\nthreat          -1\n.                0\n\"                0\n,                0\n\"                0\nThe              0\nWHO's            0\nChina            0\noffice           0\nsaid             0\nthe              0\nanalysis         0\nwas              0\nhelpful          1\nand              0\nwould            0\nhelp             0\nofficials        0\nplan             0\nthe              0\nresponse         0\nto               0\nthe              0\noutbreak        -1\n.                0\n\"                0\n,                0\n\"                0\n\"                0\nMuch             0\nremains          0\nto               0\nbe               0\nunderstood       0\nabout            0\nthe              0\nnew              0\ncoronavirus      0\n,                0\n\"                0\nit               0\nsaid             0\n.                0\n\"                0\nNot              0\nenough           1\nis               0\nknown            0\nto               0\ndraw             0\ndefinitive       0\nconclusions      0\nabout            0\nhow              0\nit               0\nis               0\ntransmitted      0\n,                0\nthe              0\nclinical         0\nfeatures         0\nof               0\nthe              0\ndisease          0\n,                0\nthe              0\nextent           0\nto               0\nwhich            0\nit               0\nhas              0\nspread           0\n,                0\nor               0\nits              0\nsource           0\n,                0\nwhich            0\nremains          0\nunknown         -1\n.                0\n\"                0\n\"                0\n,                0\n\"                0\nViral            0\nsamples          0\nhave             0\nbeen             0\ntaken            0\nfrom             0\npatients         0\nand              0\nanalysed         0\nin               0\nthe              0\nlaboratory       0\n.                0\n\"                0\n,                0\n\"                0\nAnd              0\nofficials        0\nin               0\nChina            0\nand              0\nthe              0\nWorld            0\nHealth           0\nOrganization     0\nhave             0\nconcluded        0\nthe              0\ninfection       -1\nis               0\na                0\ncoronavirus      0\n.                0\n\"                0\n,                0\n\"                0\nCoronaviruses    0\nare              0\na                0\nbroad            0\nfamily           0\nof               0\nviruses          0\n,                0\nbut              0\nonly             0\nsix              0\n(                0\nthe              0\nnew              0\none              0\nwould            0\nmake             0\nit               0\nseven            0\n)                0\nare              0\nknown            0\nto               0\ninfect           0\npeople           0\n.                0\n\"                0\n,                0\n\"                0\nAt               0\nthe              0\nmild             0\nend              0\nthey             0\ncause            0\nthe              0\ncommon           0\ncold            -1\n,                0\nbut              0\nsevere          -1\nacute            0\nrespiratory      0\nsyndrome        -1\n(                0\nSars             0\n)                0\nis               0\na                0\ncoronavirus      0\nthat             0\nkilled          -1\n774              0\nof               0\nthe              0\n8,098            0\npeople           0\ninfected        -1\nin               0\nan               0\noutbreak        -1\nthat             0\nstarted          0\nin               0\nChina            0\nin               0\n2002             0\n.                0\n\"                0\n,                0\n\"                0\nAnalysis         0\nof               0\nthe              0\ngenetic          0\ncode             0\nof               0\nthe              0\nnew              0\nvirus           -1\nshows            0\nit               0\nis               0\nmore             0\nclosely          0\nrelated          0\nto               0\nSars             0\nthan             0\nany              0\nother            0\nhuman            0\ncoronavirus      0\n.                0\n\"                0\n,                0\n\"                0\nThe              0\nvirus           -1\nhas              0\ncaused           0\npneumonia        0\nin               0\nsome             0\npatients         0\nand              0\nbeen             0\nfatal           -1\nin               0\ntwo              0\nof               0\nthem             0\n.                0\n\"                0\n,                0\n\"                0\nDr               0\nJeremy           0\nFarrar           0\n,                0\ndirector         0\nof               0\nthe              0\nWellcome         0\nmedical          0\nresearch         0\ncharity          0\n,                0\nsaid             0\n:                0\n\"                0\nThere            0\nis               0\nmore             0\nto               0\ncome             0\nfrom             0\nthis             0\nepidemic        -1\n.                0\n\"                0\n,                0\n\"                0\n\"                0\nUncertainty      0\nand              0\ngaps             0\nremain           0\n,                0\nbut              0\nit's             0\nclear            1\nthat             0\nthere            0\nis               0\nsome             0\nlevel            0\nof               0\nperson           0\n-                0\nto               0\n-                0\nperson           0\ntransmission     0\n.                0\n\"                0\n,                0\n\"                0\n\"                0\nWe               0\nare              0\nstarting         0\nto               0\nhear             0\nof               0\nmore             0\ncases            0\nin               0\nChina            0\nand              0\nother            0\ncountries        0\nand              0\nit               0\nis               0\nlikely           0\n,                0\nas               0\nthis             0\nmodelling        0\nshows            0\n,                0\nthat             0\nthere            0\nwill             0\nbe               0\nmany             0\nmore             0\ncases            0\nin               0\na                0\nnumber           0\nof               0\ncountries        0\n.                0\n\"                0\n\"                0\n,                0\n\"                0\nProf             0\nJonathan         0\nBall             0\n,                0\nfrom             0\nthe              0\nUniversity       0\nof               0\nNottingham       0\n,                0\nsaid             0\n:                0\n\"                0\nWhat's           0\nreally           0\nimportant        1\nis               0\nuntil            0\nthere            0\nhas              0\nbeen             0\nwidespread       0\nlaboratory       0\ntesting          0\nit               0\nis               0\nvery             0\ndifficult       -1\nto               0\nput              0\na                0\nreal             0\nnumber           0\non               0\nthe              0\ncases            0\nout              0\nthere            0\n.                0\n\"                0\n,                0\n\"                0\n\"                0\nBut              0\nthis             0\nis               0\na                0\nfigure           0\nwe               0\nshould           0\ntake             0\nseriously        0\nuntil            0\nwe               0\nknow             0\notherwise        0\n,                0\n41               0\nanimal           0\n-                0\nto               0\n-                0\nhuman            0\n'                0\nspillovers       0\n'                0\nis               0\nstretching       0\nit               0\na                0\nbit              0\nand              0\nthere            0\nprobably         0\nis               0\nmore             0\nunderlying       0\ninfection       -1\nthan             0\nhas              0\nbeen             0\ndetected         0\nso               0\nfar              0\n.                0\n\"                0\n\"                0\n,                0\n\"                0\nFollow           0\nJames            0\non               0\nTwitter          0\n.                0\n"
    }
   ],
   "source": [
    "print(\"{:<16}{}\".format(\"Word\", \"Polarity\")+\"\\n\"+\"-\"*30)\n",
    "for w in text.words:\n",
    "    print(\"{:<16}{:>2}\".format(w, w.polarity))"
   ]
  }
 ]
}