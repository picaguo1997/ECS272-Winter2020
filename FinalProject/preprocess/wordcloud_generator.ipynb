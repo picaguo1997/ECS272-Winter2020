{
 "cells": [
  {
   "cell_type": "code",
   "execution_count": 1,
   "metadata": {},
   "outputs": [],
   "source": [
    "import json\n",
    "import string\n",
    "from itertools import islice\n",
    "import pandas as pd\n",
    "\n",
    "import numpy as np\n",
    "from collections import OrderedDict\n",
    "from datetime import datetime"
   ]
  },
  {
   "cell_type": "code",
   "execution_count": 2,
   "metadata": {},
   "outputs": [
    {
     "name": "stdout",
     "output_type": "stream",
     "text": [
      "1841\n"
     ]
    }
   ],
   "source": [
    "date_decoding=\"%m/%d/%Y, %X\"\n",
    "date_encoding = \"%Y-%m-%d\"\n",
    "dataPath = '../final-project/public/data/news_china.json'\n",
    "with open(dataPath) as file:\n",
    "    data = json.load(file)\n",
    "    print(len(data))"
   ]
  },
  {
   "cell_type": "code",
   "execution_count": 3,
   "metadata": {},
   "outputs": [],
   "source": [
    "def rankedByDate(data):\n",
    "    rankedDate = {}\n",
    "    for news in data:\n",
    "        date = datetime.strptime(news['time-stamp'], date_decoding).strftime(date_encoding)\n",
    "        if date in rankedDate:\n",
    "            if isUnique(rankedDate[date], news['headline']):\n",
    "                rankedDate[date].append(news)\n",
    "        else:\n",
    "            rankedDate[date] = [news]\n",
    "    return dict(OrderedDict(sorted(rankedDate.items(), key=lambda t: t[0])))\n",
    "\n",
    "def isUnique(data, headline):\n",
    "    for news in data:\n",
    "        if headline == news['headline']:\n",
    "            return False\n",
    "    return True\n",
    "\n",
    "def quantile(fq):\n",
    "    indicator = np.quantile(list(fq.values()), .50)\n",
    "    scope = list(filter(lambda x: x > indicator, list(fq.values())))\n",
    "    return int(np.quantile(scope, .75)), int(np.quantile(scope, .50)), int(np.quantile(scope, .25))\n",
    "\n",
    "def DictToList(fq):\n",
    "    fq_list = []\n",
    "    for key, value in fq.items():\n",
    "        item = [key, value]\n",
    "        fq_list.append(item)\n",
    "    return fq_list\n",
    "\n",
    "def ListToDict(List):\n",
    "    Dict = {}\n",
    "    for key, value in List:\n",
    "        Dict[key] = value\n",
    "    return Dict"
   ]
  },
  {
   "cell_type": "code",
   "execution_count": 4,
   "metadata": {},
   "outputs": [],
   "source": [
    "ranked = rankedByDate(data)"
   ]
  },
  {
   "cell_type": "code",
   "execution_count": 5,
   "metadata": {},
   "outputs": [],
   "source": [
    "with open('eastern_ranked.json', 'w') as file:\n",
    "    json.dump(ranked, file)"
   ]
  },
  {
   "cell_type": "code",
   "execution_count": 6,
   "metadata": {},
   "outputs": [],
   "source": [
    "stopWords = [\n",
    "    'COVID',\n",
    "    'covid',\n",
    "    'Covid',\n",
    "    'COVID-19',\n",
    "    'covid-19',\n",
    "    'Covid-19',\n",
    "    'COVID19',\n",
    "    'covid19',\n",
    "    'Covid19'\n",
    "    'SARS-CoV-2'\n",
    "    'Coronavirus',\n",
    "    'coronavirus',\n",
    "    'virus',\n",
    "    'wa',\n",
    "    'ha',\n",
    "    '’','”','“','—'\n",
    "]"
   ]
  },
  {
   "cell_type": "code",
   "execution_count": 7,
   "metadata": {},
   "outputs": [
    {
     "name": "stderr",
     "output_type": "stream",
     "text": [
      "[nltk_data] Downloading package averaged_perceptron_tagger to\n",
      "[nltk_data]     /Users/yhkuo/nltk_data...\n",
      "[nltk_data]   Package averaged_perceptron_tagger is already up-to-\n",
      "[nltk_data]       date!\n",
      "[nltk_data] Downloading package punkt to /Users/yhkuo/nltk_data...\n",
      "[nltk_data]   Package punkt is already up-to-date!\n",
      "[nltk_data] Downloading package stopwords to /Users/yhkuo/nltk_data...\n",
      "[nltk_data]   Package stopwords is already up-to-date!\n",
      "[nltk_data] Downloading package wordnet to /Users/yhkuo/nltk_data...\n",
      "[nltk_data]   Package wordnet is already up-to-date!\n"
     ]
    }
   ],
   "source": [
    "from keywordExtract import extractKeywords"
   ]
  },
  {
   "cell_type": "code",
   "execution_count": 8,
   "metadata": {},
   "outputs": [
    {
     "name": "stdout",
     "output_type": "stream",
     "text": [
      "2020-01-15\n",
      "2020-01-19\n",
      "2020-01-20\n",
      "2020-01-21\n",
      "2020-01-22\n",
      "2020-01-23\n",
      "2020-01-24\n",
      "2020-01-25\n",
      "2020-01-26\n",
      "2020-01-27\n",
      "2020-01-28\n",
      "2020-01-29\n",
      "2020-01-30\n",
      "2020-01-31\n",
      "2020-02-01\n",
      "2020-02-02\n",
      "2020-02-03\n",
      "2020-02-04\n",
      "2020-02-05\n",
      "2020-02-06\n",
      "2020-02-07\n",
      "2020-02-08\n",
      "2020-02-09\n",
      "2020-02-10\n",
      "2020-02-11\n",
      "2020-02-12\n",
      "2020-02-13\n",
      "2020-02-14\n",
      "2020-02-15\n",
      "2020-02-16\n",
      "2020-02-17\n",
      "2020-02-18\n",
      "2020-02-19\n",
      "2020-02-20\n",
      "2020-02-21\n",
      "2020-02-22\n",
      "2020-02-23\n",
      "2020-02-24\n",
      "2020-02-25\n",
      "2020-02-26\n",
      "2020-02-27\n",
      "2020-02-28\n",
      "2020-02-29\n",
      "2020-03-01\n",
      "2020-03-02\n",
      "2020-03-03\n",
      "2020-03-04\n",
      "2020-03-05\n",
      "2020-03-06\n",
      "2020-03-07\n",
      "2020-03-08\n",
      "2020-03-09\n",
      "2020-03-10\n",
      "2020-03-11\n",
      "2020-03-12\n"
     ]
    }
   ],
   "source": [
    "df = {}\n",
    "for day, news in ranked.items():\n",
    "    print(day)\n",
    "    articles = []\n",
    "    for each in news:\n",
    "        articles.append(each['content'])\n",
    "    extract = extractKeywords()\n",
    "    extract.analyze(articles, window_size =4, lower=False, stopwords=stopWords)\n",
    "    result = extract.get_keywords(100)\n",
    "    amplified = []\n",
    "    for key, value in result:\n",
    "        amplified.append([key, int(value*10)])\n",
    "    a_dict = ListToDict(amplified)\n",
    "    final = {}\n",
    "    final['wordcloud'] = amplified\n",
    "    final['wordcloud_scope'] = {}\n",
    "    final['wordcloud_scope']['Q3'], final['wordcloud_scope']['Q2'], final['wordcloud_scope']['Q1'] = quantile(a_dict)\n",
    "    df[day] = final"
   ]
  },
  {
   "cell_type": "code",
   "execution_count": 9,
   "metadata": {},
   "outputs": [],
   "source": [
    "with open('../final-project/public/data/eastern_wordcloud.json', 'w') as file:\n",
    "    json.dump(df, file)"
   ]
  },
  {
   "cell_type": "code",
   "execution_count": null,
   "metadata": {},
   "outputs": [],
   "source": []
  }
 ],
 "metadata": {
  "kernelspec": {
   "display_name": "Python 3",
   "language": "python",
   "name": "python3"
  },
  "language_info": {
   "codemirror_mode": {
    "name": "ipython",
    "version": 3
   },
   "file_extension": ".py",
   "mimetype": "text/x-python",
   "name": "python",
   "nbconvert_exporter": "python",
   "pygments_lexer": "ipython3",
   "version": "3.7.6"
  }
 },
 "nbformat": 4,
 "nbformat_minor": 4
}
