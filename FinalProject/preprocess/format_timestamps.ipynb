{
 "cells": [
  {
   "cell_type": "markdown",
   "metadata": {},
   "source": [
    "# Imports"
   ]
  },
  {
   "cell_type": "code",
   "execution_count": 4,
   "metadata": {},
   "outputs": [],
   "source": [
    "import json\n",
    "import os\n",
    "from datetime import datetime"
   ]
  },
  {
   "cell_type": "markdown",
   "metadata": {},
   "source": [
    "# Conversion"
   ]
  },
  {
   "cell_type": "code",
   "execution_count": 5,
   "metadata": {},
   "outputs": [],
   "source": [
    "# writes a json to fpath\n",
    "def write_json(fpath, data):\n",
    "    # write json back\n",
    "    with open(fpath, 'w') as f:\n",
    "        json.dump(data, f)\n",
    "\n",
    "    print('Written ' + fpath)"
   ]
  },
  {
   "cell_type": "code",
   "execution_count": 6,
   "metadata": {},
   "outputs": [],
   "source": [
    "# takes a dict of newssource names and timestamp formats and converts them to the timestamp format we use for us media\n",
    "def convert_timestamps(newssources):\n",
    "    for newssource in newssources:\n",
    "        fpath = './dataset/cn_media_analyzed_postprocessed/' + newssource + '.json'\n",
    "\n",
    "        # open json at fpath\n",
    "        with open(fpath) as f:\n",
    "            print('Opening ' + fpath)\n",
    "            data = json.load(f)\n",
    "\n",
    "        for article in data:\n",
    "            if('time-stamp' not in article):\n",
    "                continue\n",
    "\n",
    "            in_format = newssources[newssource]\n",
    "            out_format = '%m/%d/%Y, %H:%M:%S'\n",
    "\n",
    "            in_timestamp = datetime.strptime(article['time-stamp'], in_format)\n",
    "            out_timestamp = datetime.strftime(in_timestamp, out_format)\n",
    "\n",
    "            article['time-stamp'] = out_timestamp\n",
    "\n",
    "        write_json(fpath, data)"
   ]
  },
  {
   "cell_type": "markdown",
   "metadata": {},
   "source": [
    "# Start"
   ]
  },
  {
   "cell_type": "code",
   "execution_count": 7,
   "metadata": {},
   "outputs": [
    {
     "name": "stdout",
     "output_type": "stream",
     "text": [
      "Opening ./dataset/cn_media_analyzed_postprocessed/CGTN analyzed postprocessed.json\n",
      "Written ./dataset/cn_media_analyzed_postprocessed/CGTN analyzed postprocessed.json\n",
      "Opening ./dataset/cn_media_analyzed_postprocessed/ECNS analyzed postprocessed.json\n",
      "Written ./dataset/cn_media_analyzed_postprocessed/ECNS analyzed postprocessed.json\n",
      "Opening ./dataset/cn_media_analyzed_postprocessed/People analyzed postprocessed.json\n",
      "Written ./dataset/cn_media_analyzed_postprocessed/People analyzed postprocessed.json\n",
      "Opening ./dataset/cn_media_analyzed_postprocessed/Xinhua analyzed postprocessed.json\n",
      "Written ./dataset/cn_media_analyzed_postprocessed/Xinhua analyzed postprocessed.json\n"
     ]
    }
   ],
   "source": [
    "# IN FORMATS\n",
    "# 12:46, 10-Mar-2020 - CGTN\n",
    "# 2020-02-24 12:23:24 - ECNS\n",
    "# 09:55, February 13, 2020 - People\n",
    "#  2020-02-20 22:43:13 - Xinhua\n",
    "\n",
    "# OUT FORMAT\n",
    "# 03/09/2020, 11:24:48 - all US newssources\n",
    "\n",
    "newssources = {\n",
    "        'CGTN analyzed postprocessed': '%H:%M, %d-%b-%Y', \n",
    "        'ECNS analyzed postprocessed':'%Y-%m-%d %H:%M:%S', \n",
    "        'People analyzed postprocessed':'%H:%M, %B %d, %Y', \n",
    "        'Xinhua analyzed postprocessed':' %Y-%m-%d %H:%M:%S'\n",
    "    }\n",
    "\n",
    "convert_timestamps(newssources)"
   ]
  },
  {
   "cell_type": "code",
   "execution_count": null,
   "metadata": {},
   "outputs": [],
   "source": []
  }
 ],
 "metadata": {
  "file_extension": ".py",
  "kernelspec": {
   "display_name": "Python 3",
   "language": "python",
   "name": "python3"
  },
  "language_info": {
   "codemirror_mode": {
    "name": "ipython",
    "version": 3
   },
   "file_extension": ".py",
   "mimetype": "text/x-python",
   "name": "python",
   "nbconvert_exporter": "python",
   "pygments_lexer": "ipython3",
   "version": "3.8.1"
  },
  "mimetype": "text/x-python",
  "name": "python",
  "npconvert_exporter": "python",
  "pygments_lexer": "ipython3",
  "version": 3
 },
 "nbformat": 4,
 "nbformat_minor": 2
}
